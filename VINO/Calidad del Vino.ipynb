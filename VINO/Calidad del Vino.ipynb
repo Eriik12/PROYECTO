{
 "cells": [
  {
   "cell_type": "markdown",
   "id": "748e3558",
   "metadata": {},
   "source": [
    "# ALGORITMOS PARA EL VINO"
   ]
  },
  {
   "cell_type": "code",
   "execution_count": 40,
   "id": "9ae1a208",
   "metadata": {},
   "outputs": [],
   "source": [
    "import pandas as pd\n",
    "import seaborn as sns\n",
    "import numpy as np\n",
    "from sklearn.metrics import accuracy_score, classification_report, confusion_matrix\n",
    "from sklearn.utils.multiclass import unique_labels"
   ]
  },
  {
   "cell_type": "markdown",
   "id": "9af9226b",
   "metadata": {},
   "source": [
    "# FUNCIONES"
   ]
  },
  {
   "cell_type": "markdown",
   "id": "83cf7444",
   "metadata": {},
   "source": [
    "## funcion para la matriz de confusion"
   ]
  },
  {
   "cell_type": "code",
   "execution_count": 41,
   "id": "712c4879",
   "metadata": {},
   "outputs": [],
   "source": [
    "def plot(y_val, y_pred):\n",
    "    labels = unique_labels(y_train)\n",
    "    column = [f'Predicccion {label}' for label in labels]\n",
    "    indices = [f'Actual {label}' for label in labels]\n",
    "    table = pd.DataFrame(confusion_matrix(y_val, y_pred),\n",
    "                         columns=column,index=indices)\n",
    "    return sns.heatmap(table, annot=True, fmt='d', cmap='viridis')"
   ]
  },
  {
   "cell_type": "markdown",
   "id": "76865ff7",
   "metadata": {},
   "source": [
    "## Funcion para calcular los resultados de los modelos"
   ]
  },
  {
   "cell_type": "code",
   "execution_count": 42,
   "id": "7d45eb7d",
   "metadata": {},
   "outputs": [],
   "source": [
    "def resultadosModelo(y_true, y_pred):\n",
    "    accuracy = accuracy_score(y_true, y_pred)\n",
    "    classification_rep = classification_report(y_true, y_pred, zero_division=1)\n",
    "    print(\"Precisión:\", accuracy)\n",
    "    print(\"Informe de Clasificación:\\n\")\n",
    "    print(classification_rep)"
   ]
  },
  {
   "cell_type": "code",
   "execution_count": 43,
   "id": "e6bcbbd0",
   "metadata": {},
   "outputs": [],
   "source": [
    "datos = pd.read_csv(\"winequalityN.csv\") "
   ]
  },
  {
   "cell_type": "code",
   "execution_count": 44,
   "id": "7b82ccf1",
   "metadata": {},
   "outputs": [
    {
     "data": {
      "text/html": [
       "<div>\n",
       "<style scoped>\n",
       "    .dataframe tbody tr th:only-of-type {\n",
       "        vertical-align: middle;\n",
       "    }\n",
       "\n",
       "    .dataframe tbody tr th {\n",
       "        vertical-align: top;\n",
       "    }\n",
       "\n",
       "    .dataframe thead th {\n",
       "        text-align: right;\n",
       "    }\n",
       "</style>\n",
       "<table border=\"1\" class=\"dataframe\">\n",
       "  <thead>\n",
       "    <tr style=\"text-align: right;\">\n",
       "      <th></th>\n",
       "      <th>type</th>\n",
       "      <th>fixed acidity</th>\n",
       "      <th>volatile acidity</th>\n",
       "      <th>citric acid</th>\n",
       "      <th>residual sugar</th>\n",
       "      <th>chlorides</th>\n",
       "      <th>free sulfur dioxide</th>\n",
       "      <th>total sulfur dioxide</th>\n",
       "      <th>density</th>\n",
       "      <th>pH</th>\n",
       "      <th>sulphates</th>\n",
       "      <th>alcohol</th>\n",
       "      <th>quality</th>\n",
       "    </tr>\n",
       "  </thead>\n",
       "  <tbody>\n",
       "    <tr>\n",
       "      <th>0</th>\n",
       "      <td>white</td>\n",
       "      <td>7.0</td>\n",
       "      <td>0.270</td>\n",
       "      <td>0.36</td>\n",
       "      <td>20.7</td>\n",
       "      <td>0.045</td>\n",
       "      <td>45.0</td>\n",
       "      <td>170.0</td>\n",
       "      <td>1.00100</td>\n",
       "      <td>3.00</td>\n",
       "      <td>0.45</td>\n",
       "      <td>8.8</td>\n",
       "      <td>6</td>\n",
       "    </tr>\n",
       "    <tr>\n",
       "      <th>1</th>\n",
       "      <td>white</td>\n",
       "      <td>6.3</td>\n",
       "      <td>0.300</td>\n",
       "      <td>0.34</td>\n",
       "      <td>1.6</td>\n",
       "      <td>0.049</td>\n",
       "      <td>14.0</td>\n",
       "      <td>132.0</td>\n",
       "      <td>0.99400</td>\n",
       "      <td>3.30</td>\n",
       "      <td>0.49</td>\n",
       "      <td>9.5</td>\n",
       "      <td>6</td>\n",
       "    </tr>\n",
       "    <tr>\n",
       "      <th>2</th>\n",
       "      <td>white</td>\n",
       "      <td>8.1</td>\n",
       "      <td>0.280</td>\n",
       "      <td>0.40</td>\n",
       "      <td>6.9</td>\n",
       "      <td>0.050</td>\n",
       "      <td>30.0</td>\n",
       "      <td>97.0</td>\n",
       "      <td>0.99510</td>\n",
       "      <td>3.26</td>\n",
       "      <td>0.44</td>\n",
       "      <td>10.1</td>\n",
       "      <td>6</td>\n",
       "    </tr>\n",
       "    <tr>\n",
       "      <th>3</th>\n",
       "      <td>white</td>\n",
       "      <td>7.2</td>\n",
       "      <td>0.230</td>\n",
       "      <td>0.32</td>\n",
       "      <td>8.5</td>\n",
       "      <td>0.058</td>\n",
       "      <td>47.0</td>\n",
       "      <td>186.0</td>\n",
       "      <td>0.99560</td>\n",
       "      <td>3.19</td>\n",
       "      <td>0.40</td>\n",
       "      <td>9.9</td>\n",
       "      <td>6</td>\n",
       "    </tr>\n",
       "    <tr>\n",
       "      <th>4</th>\n",
       "      <td>white</td>\n",
       "      <td>7.2</td>\n",
       "      <td>0.230</td>\n",
       "      <td>0.32</td>\n",
       "      <td>8.5</td>\n",
       "      <td>0.058</td>\n",
       "      <td>47.0</td>\n",
       "      <td>186.0</td>\n",
       "      <td>0.99560</td>\n",
       "      <td>3.19</td>\n",
       "      <td>0.40</td>\n",
       "      <td>9.9</td>\n",
       "      <td>6</td>\n",
       "    </tr>\n",
       "    <tr>\n",
       "      <th>...</th>\n",
       "      <td>...</td>\n",
       "      <td>...</td>\n",
       "      <td>...</td>\n",
       "      <td>...</td>\n",
       "      <td>...</td>\n",
       "      <td>...</td>\n",
       "      <td>...</td>\n",
       "      <td>...</td>\n",
       "      <td>...</td>\n",
       "      <td>...</td>\n",
       "      <td>...</td>\n",
       "      <td>...</td>\n",
       "      <td>...</td>\n",
       "    </tr>\n",
       "    <tr>\n",
       "      <th>6492</th>\n",
       "      <td>red</td>\n",
       "      <td>6.2</td>\n",
       "      <td>0.600</td>\n",
       "      <td>0.08</td>\n",
       "      <td>2.0</td>\n",
       "      <td>0.090</td>\n",
       "      <td>32.0</td>\n",
       "      <td>44.0</td>\n",
       "      <td>0.99490</td>\n",
       "      <td>3.45</td>\n",
       "      <td>0.58</td>\n",
       "      <td>10.5</td>\n",
       "      <td>5</td>\n",
       "    </tr>\n",
       "    <tr>\n",
       "      <th>6493</th>\n",
       "      <td>red</td>\n",
       "      <td>5.9</td>\n",
       "      <td>0.550</td>\n",
       "      <td>0.10</td>\n",
       "      <td>2.2</td>\n",
       "      <td>0.062</td>\n",
       "      <td>39.0</td>\n",
       "      <td>51.0</td>\n",
       "      <td>0.99512</td>\n",
       "      <td>3.52</td>\n",
       "      <td>NaN</td>\n",
       "      <td>11.2</td>\n",
       "      <td>6</td>\n",
       "    </tr>\n",
       "    <tr>\n",
       "      <th>6494</th>\n",
       "      <td>red</td>\n",
       "      <td>6.3</td>\n",
       "      <td>0.510</td>\n",
       "      <td>0.13</td>\n",
       "      <td>2.3</td>\n",
       "      <td>0.076</td>\n",
       "      <td>29.0</td>\n",
       "      <td>40.0</td>\n",
       "      <td>0.99574</td>\n",
       "      <td>3.42</td>\n",
       "      <td>0.75</td>\n",
       "      <td>11.0</td>\n",
       "      <td>6</td>\n",
       "    </tr>\n",
       "    <tr>\n",
       "      <th>6495</th>\n",
       "      <td>red</td>\n",
       "      <td>5.9</td>\n",
       "      <td>0.645</td>\n",
       "      <td>0.12</td>\n",
       "      <td>2.0</td>\n",
       "      <td>0.075</td>\n",
       "      <td>32.0</td>\n",
       "      <td>44.0</td>\n",
       "      <td>0.99547</td>\n",
       "      <td>3.57</td>\n",
       "      <td>0.71</td>\n",
       "      <td>10.2</td>\n",
       "      <td>5</td>\n",
       "    </tr>\n",
       "    <tr>\n",
       "      <th>6496</th>\n",
       "      <td>red</td>\n",
       "      <td>6.0</td>\n",
       "      <td>0.310</td>\n",
       "      <td>0.47</td>\n",
       "      <td>3.6</td>\n",
       "      <td>0.067</td>\n",
       "      <td>18.0</td>\n",
       "      <td>42.0</td>\n",
       "      <td>0.99549</td>\n",
       "      <td>3.39</td>\n",
       "      <td>0.66</td>\n",
       "      <td>11.0</td>\n",
       "      <td>6</td>\n",
       "    </tr>\n",
       "  </tbody>\n",
       "</table>\n",
       "<p>6497 rows × 13 columns</p>\n",
       "</div>"
      ],
      "text/plain": [
       "       type  fixed acidity  volatile acidity  citric acid  residual sugar  \\\n",
       "0     white            7.0             0.270         0.36            20.7   \n",
       "1     white            6.3             0.300         0.34             1.6   \n",
       "2     white            8.1             0.280         0.40             6.9   \n",
       "3     white            7.2             0.230         0.32             8.5   \n",
       "4     white            7.2             0.230         0.32             8.5   \n",
       "...     ...            ...               ...          ...             ...   \n",
       "6492    red            6.2             0.600         0.08             2.0   \n",
       "6493    red            5.9             0.550         0.10             2.2   \n",
       "6494    red            6.3             0.510         0.13             2.3   \n",
       "6495    red            5.9             0.645         0.12             2.0   \n",
       "6496    red            6.0             0.310         0.47             3.6   \n",
       "\n",
       "      chlorides  free sulfur dioxide  total sulfur dioxide  density    pH  \\\n",
       "0         0.045                 45.0                 170.0  1.00100  3.00   \n",
       "1         0.049                 14.0                 132.0  0.99400  3.30   \n",
       "2         0.050                 30.0                  97.0  0.99510  3.26   \n",
       "3         0.058                 47.0                 186.0  0.99560  3.19   \n",
       "4         0.058                 47.0                 186.0  0.99560  3.19   \n",
       "...         ...                  ...                   ...      ...   ...   \n",
       "6492      0.090                 32.0                  44.0  0.99490  3.45   \n",
       "6493      0.062                 39.0                  51.0  0.99512  3.52   \n",
       "6494      0.076                 29.0                  40.0  0.99574  3.42   \n",
       "6495      0.075                 32.0                  44.0  0.99547  3.57   \n",
       "6496      0.067                 18.0                  42.0  0.99549  3.39   \n",
       "\n",
       "      sulphates  alcohol  quality  \n",
       "0          0.45      8.8        6  \n",
       "1          0.49      9.5        6  \n",
       "2          0.44     10.1        6  \n",
       "3          0.40      9.9        6  \n",
       "4          0.40      9.9        6  \n",
       "...         ...      ...      ...  \n",
       "6492       0.58     10.5        5  \n",
       "6493        NaN     11.2        6  \n",
       "6494       0.75     11.0        6  \n",
       "6495       0.71     10.2        5  \n",
       "6496       0.66     11.0        6  \n",
       "\n",
       "[6497 rows x 13 columns]"
      ]
     },
     "execution_count": 44,
     "metadata": {},
     "output_type": "execute_result"
    }
   ],
   "source": [
    "datos"
   ]
  },
  {
   "cell_type": "code",
   "execution_count": 45,
   "id": "42bfc83a",
   "metadata": {},
   "outputs": [],
   "source": [
    "columnas_con_faltantes = ['fixed acidity', 'volatile acidity', 'citric acid', 'residual sugar', 'chlorides', 'free sulfur dioxide', 'total sulfur dioxide', 'density', 'pH', 'sulphates', 'alcohol', 'quality']\n",
    "\n",
    "datos = datos.dropna(subset=columnas_con_faltantes)"
   ]
  },
  {
   "cell_type": "code",
   "execution_count": 46,
   "id": "b15b5955",
   "metadata": {},
   "outputs": [
    {
     "data": {
      "text/plain": [
       "<Axes: title={'center': 'Cantidad de datos de la calidad del vino'}, xlabel='quality'>"
      ]
     },
     "execution_count": 46,
     "metadata": {},
     "output_type": "execute_result"
    },
    {
     "data": {
      "image/png": "[encoded data removed]",
      "text/plain": [
       "<Figure size 640x480 with 1 Axes>"
      ]
     },
     "metadata": {},
     "output_type": "display_data"
    }
   ],
   "source": [
    "datos[\"quality\"].value_counts().plot(kind='bar', title='Cantidad de datos de la calidad del vino')"
   ]
  },
  {
   "cell_type": "code",
   "execution_count": 47,
   "id": "92488882",
   "metadata": {},
   "outputs": [],
   "source": [
    "datosn=datos[datos['quality'] != 9]"
   ]
  },
  {
   "cell_type": "code",
   "execution_count": 48,
   "id": "13e25605",
   "metadata": {},
   "outputs": [],
   "source": [
    "datosn=datosn[datosn['quality'] != 3]"
   ]
  },
  {
   "cell_type": "code",
   "execution_count": 49,
   "id": "3967cdef",
   "metadata": {},
   "outputs": [
    {
     "data": {
      "text/plain": [
       "<Axes: title={'center': 'Cantidad de datos de la calidad del vino'}, xlabel='quality'>"
      ]
     },
     "execution_count": 49,
     "metadata": {},
     "output_type": "execute_result"
    },
    {
     "data": {
      "image/png": "[encoded data removed]",
      "text/plain": [
       "<Figure size 640x480 with 1 Axes>"
      ]
     },
     "metadata": {},
     "output_type": "display_data"
    }
   ],
   "source": [
    "datosn[\"quality\"].value_counts().plot(kind='bar', title='Cantidad de datos de la calidad del vino')"
   ]
  },
  {
   "cell_type": "code",
   "execution_count": 50,
   "id": "b45145d1",
   "metadata": {},
   "outputs": [],
   "source": [
    "datosn.loc[datosn['type'] == 'red', 'type'] = 0\n",
    "datosn.loc[datosn['type'] == 'white', 'type'] = 1"
   ]
  },
  {
   "cell_type": "code",
   "execution_count": 51,
   "id": "91fb7b40",
   "metadata": {},
   "outputs": [
    {
     "data": {
      "text/html": [
       "<div>\n",
       "<style scoped>\n",
       "    .dataframe tbody tr th:only-of-type {\n",
       "        vertical-align: middle;\n",
       "    }\n",
       "\n",
       "    .dataframe tbody tr th {\n",
       "        vertical-align: top;\n",
       "    }\n",
       "\n",
       "    .dataframe thead th {\n",
       "        text-align: right;\n",
       "    }\n",
       "</style>\n",
       "<table border=\"1\" class=\"dataframe\">\n",
       "  <thead>\n",
       "    <tr style=\"text-align: right;\">\n",
       "      <th></th>\n",
       "      <th>type</th>\n",
       "      <th>fixed acidity</th>\n",
       "      <th>volatile acidity</th>\n",
       "      <th>citric acid</th>\n",
       "      <th>residual sugar</th>\n",
       "      <th>chlorides</th>\n",
       "      <th>free sulfur dioxide</th>\n",
       "      <th>total sulfur dioxide</th>\n",
       "      <th>density</th>\n",
       "      <th>pH</th>\n",
       "      <th>sulphates</th>\n",
       "      <th>alcohol</th>\n",
       "      <th>quality</th>\n",
       "    </tr>\n",
       "  </thead>\n",
       "  <tbody>\n",
       "    <tr>\n",
       "      <th>0</th>\n",
       "      <td>1</td>\n",
       "      <td>7.0</td>\n",
       "      <td>0.270</td>\n",
       "      <td>0.36</td>\n",
       "      <td>20.7</td>\n",
       "      <td>0.045</td>\n",
       "      <td>45.0</td>\n",
       "      <td>170.0</td>\n",
       "      <td>1.00100</td>\n",
       "      <td>3.00</td>\n",
       "      <td>0.45</td>\n",
       "      <td>8.8</td>\n",
       "      <td>6</td>\n",
       "    </tr>\n",
       "    <tr>\n",
       "      <th>1</th>\n",
       "      <td>1</td>\n",
       "      <td>6.3</td>\n",
       "      <td>0.300</td>\n",
       "      <td>0.34</td>\n",
       "      <td>1.6</td>\n",
       "      <td>0.049</td>\n",
       "      <td>14.0</td>\n",
       "      <td>132.0</td>\n",
       "      <td>0.99400</td>\n",
       "      <td>3.30</td>\n",
       "      <td>0.49</td>\n",
       "      <td>9.5</td>\n",
       "      <td>6</td>\n",
       "    </tr>\n",
       "    <tr>\n",
       "      <th>2</th>\n",
       "      <td>1</td>\n",
       "      <td>8.1</td>\n",
       "      <td>0.280</td>\n",
       "      <td>0.40</td>\n",
       "      <td>6.9</td>\n",
       "      <td>0.050</td>\n",
       "      <td>30.0</td>\n",
       "      <td>97.0</td>\n",
       "      <td>0.99510</td>\n",
       "      <td>3.26</td>\n",
       "      <td>0.44</td>\n",
       "      <td>10.1</td>\n",
       "      <td>6</td>\n",
       "    </tr>\n",
       "    <tr>\n",
       "      <th>3</th>\n",
       "      <td>1</td>\n",
       "      <td>7.2</td>\n",
       "      <td>0.230</td>\n",
       "      <td>0.32</td>\n",
       "      <td>8.5</td>\n",
       "      <td>0.058</td>\n",
       "      <td>47.0</td>\n",
       "      <td>186.0</td>\n",
       "      <td>0.99560</td>\n",
       "      <td>3.19</td>\n",
       "      <td>0.40</td>\n",
       "      <td>9.9</td>\n",
       "      <td>6</td>\n",
       "    </tr>\n",
       "    <tr>\n",
       "      <th>4</th>\n",
       "      <td>1</td>\n",
       "      <td>7.2</td>\n",
       "      <td>0.230</td>\n",
       "      <td>0.32</td>\n",
       "      <td>8.5</td>\n",
       "      <td>0.058</td>\n",
       "      <td>47.0</td>\n",
       "      <td>186.0</td>\n",
       "      <td>0.99560</td>\n",
       "      <td>3.19</td>\n",
       "      <td>0.40</td>\n",
       "      <td>9.9</td>\n",
       "      <td>6</td>\n",
       "    </tr>\n",
       "    <tr>\n",
       "      <th>...</th>\n",
       "      <td>...</td>\n",
       "      <td>...</td>\n",
       "      <td>...</td>\n",
       "      <td>...</td>\n",
       "      <td>...</td>\n",
       "      <td>...</td>\n",
       "      <td>...</td>\n",
       "      <td>...</td>\n",
       "      <td>...</td>\n",
       "      <td>...</td>\n",
       "      <td>...</td>\n",
       "      <td>...</td>\n",
       "      <td>...</td>\n",
       "    </tr>\n",
       "    <tr>\n",
       "      <th>6491</th>\n",
       "      <td>0</td>\n",
       "      <td>6.8</td>\n",
       "      <td>0.620</td>\n",
       "      <td>0.08</td>\n",
       "      <td>1.9</td>\n",
       "      <td>0.068</td>\n",
       "      <td>28.0</td>\n",
       "      <td>38.0</td>\n",
       "      <td>0.99651</td>\n",
       "      <td>3.42</td>\n",
       "      <td>0.82</td>\n",
       "      <td>9.5</td>\n",
       "      <td>6</td>\n",
       "    </tr>\n",
       "    <tr>\n",
       "      <th>6492</th>\n",
       "      <td>0</td>\n",
       "      <td>6.2</td>\n",
       "      <td>0.600</td>\n",
       "      <td>0.08</td>\n",
       "      <td>2.0</td>\n",
       "      <td>0.090</td>\n",
       "      <td>32.0</td>\n",
       "      <td>44.0</td>\n",
       "      <td>0.99490</td>\n",
       "      <td>3.45</td>\n",
       "      <td>0.58</td>\n",
       "      <td>10.5</td>\n",
       "      <td>5</td>\n",
       "    </tr>\n",
       "    <tr>\n",
       "      <th>6494</th>\n",
       "      <td>0</td>\n",
       "      <td>6.3</td>\n",
       "      <td>0.510</td>\n",
       "      <td>0.13</td>\n",
       "      <td>2.3</td>\n",
       "      <td>0.076</td>\n",
       "      <td>29.0</td>\n",
       "      <td>40.0</td>\n",
       "      <td>0.99574</td>\n",
       "      <td>3.42</td>\n",
       "      <td>0.75</td>\n",
       "      <td>11.0</td>\n",
       "      <td>6</td>\n",
       "    </tr>\n",
       "    <tr>\n",
       "      <th>6495</th>\n",
       "      <td>0</td>\n",
       "      <td>5.9</td>\n",
       "      <td>0.645</td>\n",
       "      <td>0.12</td>\n",
       "      <td>2.0</td>\n",
       "      <td>0.075</td>\n",
       "      <td>32.0</td>\n",
       "      <td>44.0</td>\n",
       "      <td>0.99547</td>\n",
       "      <td>3.57</td>\n",
       "      <td>0.71</td>\n",
       "      <td>10.2</td>\n",
       "      <td>5</td>\n",
       "    </tr>\n",
       "    <tr>\n",
       "      <th>6496</th>\n",
       "      <td>0</td>\n",
       "      <td>6.0</td>\n",
       "      <td>0.310</td>\n",
       "      <td>0.47</td>\n",
       "      <td>3.6</td>\n",
       "      <td>0.067</td>\n",
       "      <td>18.0</td>\n",
       "      <td>42.0</td>\n",
       "      <td>0.99549</td>\n",
       "      <td>3.39</td>\n",
       "      <td>0.66</td>\n",
       "      <td>11.0</td>\n",
       "      <td>6</td>\n",
       "    </tr>\n",
       "  </tbody>\n",
       "</table>\n",
       "<p>6428 rows × 13 columns</p>\n",
       "</div>"
      ],
      "text/plain": [
       "     type  fixed acidity  volatile acidity  citric acid  residual sugar  \\\n",
       "0       1            7.0             0.270         0.36            20.7   \n",
       "1       1            6.3             0.300         0.34             1.6   \n",
       "2       1            8.1             0.280         0.40             6.9   \n",
       "3       1            7.2             0.230         0.32             8.5   \n",
       "4       1            7.2             0.230         0.32             8.5   \n",
       "...   ...            ...               ...          ...             ...   \n",
       "6491    0            6.8             0.620         0.08             1.9   \n",
       "6492    0            6.2             0.600         0.08             2.0   \n",
       "6494    0            6.3             0.510         0.13             2.3   \n",
       "6495    0            5.9             0.645         0.12             2.0   \n",
       "6496    0            6.0             0.310         0.47             3.6   \n",
       "\n",
       "      chlorides  free sulfur dioxide  total sulfur dioxide  density    pH  \\\n",
       "0         0.045                 45.0                 170.0  1.00100  3.00   \n",
       "1         0.049                 14.0                 132.0  0.99400  3.30   \n",
       "2         0.050                 30.0                  97.0  0.99510  3.26   \n",
       "3         0.058                 47.0                 186.0  0.99560  3.19   \n",
       "4         0.058                 47.0                 186.0  0.99560  3.19   \n",
       "...         ...                  ...                   ...      ...   ...   \n",
       "6491      0.068                 28.0                  38.0  0.99651  3.42   \n",
       "6492      0.090                 32.0                  44.0  0.99490  3.45   \n",
       "6494      0.076                 29.0                  40.0  0.99574  3.42   \n",
       "6495      0.075                 32.0                  44.0  0.99547  3.57   \n",
       "6496      0.067                 18.0                  42.0  0.99549  3.39   \n",
       "\n",
       "      sulphates  alcohol  quality  \n",
       "0          0.45      8.8        6  \n",
       "1          0.49      9.5        6  \n",
       "2          0.44     10.1        6  \n",
       "3          0.40      9.9        6  \n",
       "4          0.40      9.9        6  \n",
       "...         ...      ...      ...  \n",
       "6491       0.82      9.5        6  \n",
       "6492       0.58     10.5        5  \n",
       "6494       0.75     11.0        6  \n",
       "6495       0.71     10.2        5  \n",
       "6496       0.66     11.0        6  \n",
       "\n",
       "[6428 rows x 13 columns]"
      ]
     },
     "execution_count": 51,
     "metadata": {},
     "output_type": "execute_result"
    }
   ],
   "source": [
    "datosn"
   ]
  },
  {
   "cell_type": "code",
   "execution_count": 52,
   "id": "451f6038",
   "metadata": {},
   "outputs": [],
   "source": [
    "X = datosn.drop('quality', axis=1)\n",
    "y = datosn['quality']"
   ]
  },
  {
   "cell_type": "code",
   "execution_count": 53,
   "id": "cccb5eda",
   "metadata": {},
   "outputs": [],
   "source": [
    "from sklearn.preprocessing import MinMaxScaler\n",
    "\n",
    "# Suponiendo que 'data' contiene tus datos\n",
    "scaler = MinMaxScaler()\n",
    "data_normalized = scaler.fit_transform(X)"
   ]
  },
  {
   "cell_type": "code",
   "execution_count": 54,
   "id": "d6bcb2c0",
   "metadata": {},
   "outputs": [
    {
     "data": {
      "text/html": [
       "<div>\n",
       "<style scoped>\n",
       "    .dataframe tbody tr th:only-of-type {\n",
       "        vertical-align: middle;\n",
       "    }\n",
       "\n",
       "    .dataframe tbody tr th {\n",
       "        vertical-align: top;\n",
       "    }\n",
       "\n",
       "    .dataframe thead th {\n",
       "        text-align: right;\n",
       "    }\n",
       "</style>\n",
       "<table border=\"1\" class=\"dataframe\">\n",
       "  <thead>\n",
       "    <tr style=\"text-align: right;\">\n",
       "      <th></th>\n",
       "      <th>0</th>\n",
       "      <th>1</th>\n",
       "      <th>2</th>\n",
       "      <th>3</th>\n",
       "      <th>4</th>\n",
       "      <th>5</th>\n",
       "      <th>6</th>\n",
       "      <th>7</th>\n",
       "      <th>8</th>\n",
       "      <th>9</th>\n",
       "      <th>10</th>\n",
       "      <th>11</th>\n",
       "    </tr>\n",
       "  </thead>\n",
       "  <tbody>\n",
       "    <tr>\n",
       "      <th>0</th>\n",
       "      <td>1.0</td>\n",
       "      <td>0.264463</td>\n",
       "      <td>0.152</td>\n",
       "      <td>0.216867</td>\n",
       "      <td>0.308282</td>\n",
       "      <td>0.059801</td>\n",
       "      <td>0.320000</td>\n",
       "      <td>0.485207</td>\n",
       "      <td>0.267785</td>\n",
       "      <td>0.217054</td>\n",
       "      <td>0.129213</td>\n",
       "      <td>0.115942</td>\n",
       "    </tr>\n",
       "    <tr>\n",
       "      <th>1</th>\n",
       "      <td>1.0</td>\n",
       "      <td>0.206612</td>\n",
       "      <td>0.176</td>\n",
       "      <td>0.204819</td>\n",
       "      <td>0.015337</td>\n",
       "      <td>0.066445</td>\n",
       "      <td>0.094545</td>\n",
       "      <td>0.372781</td>\n",
       "      <td>0.132832</td>\n",
       "      <td>0.449612</td>\n",
       "      <td>0.151685</td>\n",
       "      <td>0.217391</td>\n",
       "    </tr>\n",
       "    <tr>\n",
       "      <th>2</th>\n",
       "      <td>1.0</td>\n",
       "      <td>0.355372</td>\n",
       "      <td>0.160</td>\n",
       "      <td>0.240964</td>\n",
       "      <td>0.096626</td>\n",
       "      <td>0.068106</td>\n",
       "      <td>0.210909</td>\n",
       "      <td>0.269231</td>\n",
       "      <td>0.154039</td>\n",
       "      <td>0.418605</td>\n",
       "      <td>0.123596</td>\n",
       "      <td>0.304348</td>\n",
       "    </tr>\n",
       "    <tr>\n",
       "      <th>3</th>\n",
       "      <td>1.0</td>\n",
       "      <td>0.280992</td>\n",
       "      <td>0.120</td>\n",
       "      <td>0.192771</td>\n",
       "      <td>0.121166</td>\n",
       "      <td>0.081395</td>\n",
       "      <td>0.334545</td>\n",
       "      <td>0.532544</td>\n",
       "      <td>0.163678</td>\n",
       "      <td>0.364341</td>\n",
       "      <td>0.101124</td>\n",
       "      <td>0.275362</td>\n",
       "    </tr>\n",
       "    <tr>\n",
       "      <th>4</th>\n",
       "      <td>1.0</td>\n",
       "      <td>0.280992</td>\n",
       "      <td>0.120</td>\n",
       "      <td>0.192771</td>\n",
       "      <td>0.121166</td>\n",
       "      <td>0.081395</td>\n",
       "      <td>0.334545</td>\n",
       "      <td>0.532544</td>\n",
       "      <td>0.163678</td>\n",
       "      <td>0.364341</td>\n",
       "      <td>0.101124</td>\n",
       "      <td>0.275362</td>\n",
       "    </tr>\n",
       "    <tr>\n",
       "      <th>...</th>\n",
       "      <td>...</td>\n",
       "      <td>...</td>\n",
       "      <td>...</td>\n",
       "      <td>...</td>\n",
       "      <td>...</td>\n",
       "      <td>...</td>\n",
       "      <td>...</td>\n",
       "      <td>...</td>\n",
       "      <td>...</td>\n",
       "      <td>...</td>\n",
       "      <td>...</td>\n",
       "      <td>...</td>\n",
       "    </tr>\n",
       "    <tr>\n",
       "      <th>6423</th>\n",
       "      <td>0.0</td>\n",
       "      <td>0.247934</td>\n",
       "      <td>0.432</td>\n",
       "      <td>0.048193</td>\n",
       "      <td>0.019939</td>\n",
       "      <td>0.098007</td>\n",
       "      <td>0.196364</td>\n",
       "      <td>0.094675</td>\n",
       "      <td>0.181222</td>\n",
       "      <td>0.542636</td>\n",
       "      <td>0.337079</td>\n",
       "      <td>0.217391</td>\n",
       "    </tr>\n",
       "    <tr>\n",
       "      <th>6424</th>\n",
       "      <td>0.0</td>\n",
       "      <td>0.198347</td>\n",
       "      <td>0.416</td>\n",
       "      <td>0.048193</td>\n",
       "      <td>0.021472</td>\n",
       "      <td>0.134551</td>\n",
       "      <td>0.225455</td>\n",
       "      <td>0.112426</td>\n",
       "      <td>0.150183</td>\n",
       "      <td>0.565891</td>\n",
       "      <td>0.202247</td>\n",
       "      <td>0.362319</td>\n",
       "    </tr>\n",
       "    <tr>\n",
       "      <th>6425</th>\n",
       "      <td>0.0</td>\n",
       "      <td>0.206612</td>\n",
       "      <td>0.344</td>\n",
       "      <td>0.078313</td>\n",
       "      <td>0.026074</td>\n",
       "      <td>0.111296</td>\n",
       "      <td>0.203636</td>\n",
       "      <td>0.100592</td>\n",
       "      <td>0.166377</td>\n",
       "      <td>0.542636</td>\n",
       "      <td>0.297753</td>\n",
       "      <td>0.434783</td>\n",
       "    </tr>\n",
       "    <tr>\n",
       "      <th>6426</th>\n",
       "      <td>0.0</td>\n",
       "      <td>0.173554</td>\n",
       "      <td>0.452</td>\n",
       "      <td>0.072289</td>\n",
       "      <td>0.021472</td>\n",
       "      <td>0.109635</td>\n",
       "      <td>0.225455</td>\n",
       "      <td>0.112426</td>\n",
       "      <td>0.161172</td>\n",
       "      <td>0.658915</td>\n",
       "      <td>0.275281</td>\n",
       "      <td>0.318841</td>\n",
       "    </tr>\n",
       "    <tr>\n",
       "      <th>6427</th>\n",
       "      <td>0.0</td>\n",
       "      <td>0.181818</td>\n",
       "      <td>0.184</td>\n",
       "      <td>0.283133</td>\n",
       "      <td>0.046012</td>\n",
       "      <td>0.096346</td>\n",
       "      <td>0.123636</td>\n",
       "      <td>0.106509</td>\n",
       "      <td>0.161558</td>\n",
       "      <td>0.519380</td>\n",
       "      <td>0.247191</td>\n",
       "      <td>0.434783</td>\n",
       "    </tr>\n",
       "  </tbody>\n",
       "</table>\n",
       "<p>6428 rows × 12 columns</p>\n",
       "</div>"
      ],
      "text/plain": [
       "       0         1      2         3         4         5         6         7   \\\n",
       "0     1.0  0.264463  0.152  0.216867  0.308282  0.059801  0.320000  0.485207   \n",
       "1     1.0  0.206612  0.176  0.204819  0.015337  0.066445  0.094545  0.372781   \n",
       "2     1.0  0.355372  0.160  0.240964  0.096626  0.068106  0.210909  0.269231   \n",
       "3     1.0  0.280992  0.120  0.192771  0.121166  0.081395  0.334545  0.532544   \n",
       "4     1.0  0.280992  0.120  0.192771  0.121166  0.081395  0.334545  0.532544   \n",
       "...   ...       ...    ...       ...       ...       ...       ...       ...   \n",
       "6423  0.0  0.247934  0.432  0.048193  0.019939  0.098007  0.196364  0.094675   \n",
       "6424  0.0  0.198347  0.416  0.048193  0.021472  0.134551  0.225455  0.112426   \n",
       "6425  0.0  0.206612  0.344  0.078313  0.026074  0.111296  0.203636  0.100592   \n",
       "6426  0.0  0.173554  0.452  0.072289  0.021472  0.109635  0.225455  0.112426   \n",
       "6427  0.0  0.181818  0.184  0.283133  0.046012  0.096346  0.123636  0.106509   \n",
       "\n",
       "            8         9         10        11  \n",
       "0     0.267785  0.217054  0.129213  0.115942  \n",
       "1     0.132832  0.449612  0.151685  0.217391  \n",
       "2     0.154039  0.418605  0.123596  0.304348  \n",
       "3     0.163678  0.364341  0.101124  0.275362  \n",
       "4     0.163678  0.364341  0.101124  0.275362  \n",
       "...        ...       ...       ...       ...  \n",
       "6423  0.181222  0.542636  0.337079  0.217391  \n",
       "6424  0.150183  0.565891  0.202247  0.362319  \n",
       "6425  0.166377  0.542636  0.297753  0.434783  \n",
       "6426  0.161172  0.658915  0.275281  0.318841  \n",
       "6427  0.161558  0.519380  0.247191  0.434783  \n",
       "\n",
       "[6428 rows x 12 columns]"
      ]
     },
     "execution_count": 54,
     "metadata": {},
     "output_type": "execute_result"
    }
   ],
   "source": [
    "pd.DataFrame(data_normalized)"
   ]
  },
  {
   "cell_type": "code",
   "execution_count": 55,
   "id": "b4134469",
   "metadata": {},
   "outputs": [],
   "source": [
    "from sklearn.model_selection import train_test_split"
   ]
  },
  {
   "cell_type": "markdown",
   "id": "3df2c586",
   "metadata": {},
   "source": [
    "### separacion de datos, entrenamiento (70%) y validacion (30%)"
   ]
  },
  {
   "cell_type": "code",
   "execution_count": 56,
   "id": "246c4696",
   "metadata": {},
   "outputs": [],
   "source": [
    "X_train, X_val, y_train, y_val = train_test_split(data_normalized, y, test_size=0.3, random_state=42)"
   ]
  },
  {
   "cell_type": "markdown",
   "id": "715b53a0",
   "metadata": {},
   "source": [
    "# Random Forest"
   ]
  },
  {
   "cell_type": "code",
   "execution_count": 57,
   "id": "4bbbbbf6",
   "metadata": {},
   "outputs": [],
   "source": [
    "from sklearn.ensemble import RandomForestClassifier"
   ]
  },
  {
   "cell_type": "code",
   "execution_count": 58,
   "id": "d713075a",
   "metadata": {},
   "outputs": [],
   "source": [
    "rf_classifier = RandomForestClassifier(n_estimators=100, random_state=42)\n",
    "rf_classifier.fit(X_train, y_train)\n",
    "y_pred = rf_classifier.predict(X_val)"
   ]
  },
  {
   "cell_type": "code",
   "execution_count": 59,
   "id": "3e8f62f6",
   "metadata": {},
   "outputs": [
    {
     "data": {
      "text/plain": [
       "<Axes: >"
      ]
     },
     "execution_count": 59,
     "metadata": {},
     "output_type": "execute_result"
    },
    {
     "data": {
      "image/png": "[encoded data removed]",
      "text/plain": [
       "<Figure size 640x480 with 2 Axes>"
      ]
     },
     "metadata": {},
     "output_type": "display_data"
    }
   ],
   "source": [
    "plot(y_val,y_pred)"
   ]
  },
  {
   "cell_type": "code",
   "execution_count": 60,
   "id": "1dd2490b",
   "metadata": {},
   "outputs": [
    {
     "name": "stdout",
     "output_type": "stream",
     "text": [
      "Precisión: 0.6640746500777605\n",
      "Informe de Clasificación:\n",
      "\n",
      "              precision    recall  f1-score   support\n",
      "\n",
      "           4       0.80      0.06      0.10        72\n",
      "           5       0.73      0.70      0.71       624\n",
      "           6       0.62      0.80      0.70       829\n",
      "           7       0.67      0.49      0.57       340\n",
      "           8       0.88      0.23      0.37        64\n",
      "\n",
      "    accuracy                           0.66      1929\n",
      "   macro avg       0.74      0.45      0.49      1929\n",
      "weighted avg       0.68      0.66      0.65      1929\n",
      "\n"
     ]
    }
   ],
   "source": [
    "resultadosModelo(y_val, y_pred)"
   ]
  },
  {
   "cell_type": "markdown",
   "id": "29908610",
   "metadata": {},
   "source": [
    "# ALGORITMO KNN"
   ]
  },
  {
   "cell_type": "code",
   "execution_count": 61,
   "id": "bb930755",
   "metadata": {},
   "outputs": [],
   "source": [
    "from sklearn.neighbors import KNeighborsClassifier\n",
    "neigh = KNeighborsClassifier(n_neighbors=1,leaf_size=80)\n",
    "neigh.fit(X_train, y_train)\n",
    "y_pred2 = neigh.predict(X_val)"
   ]
  },
  {
   "cell_type": "code",
   "execution_count": 62,
   "id": "61299cac",
   "metadata": {},
   "outputs": [
    {
     "data": {
      "text/plain": [
       "<Axes: >"
      ]
     },
     "execution_count": 62,
     "metadata": {},
     "output_type": "execute_result"
    },
    {
     "data": {
      "image/png": "[encoded data removed]",
      "text/plain": [
       "<Figure size 640x480 with 2 Axes>"
      ]
     },
     "metadata": {},
     "output_type": "display_data"
    }
   ],
   "source": [
    "plot(y_val,y_pred2)"
   ]
  },
  {
   "cell_type": "code",
   "execution_count": 63,
   "id": "08f5b26b",
   "metadata": {},
   "outputs": [
    {
     "name": "stdout",
     "output_type": "stream",
     "text": [
      "Precisión: 0.6091238983929497\n",
      "Informe de Clasificación:\n",
      "\n",
      "              precision    recall  f1-score   support\n",
      "\n",
      "           4       0.28      0.18      0.22        72\n",
      "           5       0.66      0.66      0.66       624\n",
      "           6       0.62      0.65      0.64       829\n",
      "           7       0.56      0.57      0.56       340\n",
      "           8       0.36      0.31      0.33        64\n",
      "\n",
      "    accuracy                           0.61      1929\n",
      "   macro avg       0.50      0.47      0.48      1929\n",
      "weighted avg       0.60      0.61      0.61      1929\n",
      "\n"
     ]
    }
   ],
   "source": [
    "resultadosModelo(y_val, y_pred2)"
   ]
  },
  {
   "cell_type": "markdown",
   "id": "7878601f",
   "metadata": {},
   "source": [
    "# Arboles de decision"
   ]
  },
  {
   "cell_type": "code",
   "execution_count": 64,
   "id": "a416cce5",
   "metadata": {},
   "outputs": [],
   "source": [
    "from sklearn.tree import DecisionTreeClassifier"
   ]
  },
  {
   "cell_type": "code",
   "execution_count": 65,
   "id": "1cc96752",
   "metadata": {},
   "outputs": [],
   "source": [
    "classifier = DecisionTreeClassifier(random_state=42)\n",
    "classifier.fit(X_train, y_train)\n",
    "y_pred3 = classifier.predict(X_val)"
   ]
  },
  {
   "cell_type": "code",
   "execution_count": 66,
   "id": "18e4d591",
   "metadata": {},
   "outputs": [
    {
     "data": {
      "text/plain": [
       "<Axes: >"
      ]
     },
     "execution_count": 66,
     "metadata": {},
     "output_type": "execute_result"
    },
    {
     "data": {
      "image/png": "[encoded data removed]",
      "text/plain": [
       "<Figure size 640x480 with 2 Axes>"
      ]
     },
     "metadata": {},
     "output_type": "display_data"
    }
   ],
   "source": [
    "plot(y_val,y_pred3)"
   ]
  },
  {
   "cell_type": "code",
   "execution_count": 67,
   "id": "fb40221c",
   "metadata": {},
   "outputs": [
    {
     "name": "stdout",
     "output_type": "stream",
     "text": [
      "Precisión: 0.5904613789528252\n",
      "Informe de Clasificación:\n",
      "\n",
      "              precision    recall  f1-score   support\n",
      "\n",
      "           4       0.26      0.17      0.20        72\n",
      "           5       0.62      0.64      0.63       624\n",
      "           6       0.62      0.64      0.63       829\n",
      "           7       0.55      0.52      0.53       340\n",
      "           8       0.32      0.33      0.33        64\n",
      "\n",
      "    accuracy                           0.59      1929\n",
      "   macro avg       0.48      0.46      0.46      1929\n",
      "weighted avg       0.59      0.59      0.59      1929\n",
      "\n"
     ]
    }
   ],
   "source": [
    "resultadosModelo(y_val, y_pred3)"
   ]
  },
  {
   "cell_type": "markdown",
   "id": "575c021f",
   "metadata": {},
   "source": [
    "# SVM (Support Vector Machine)"
   ]
  },
  {
   "cell_type": "code",
   "execution_count": 68,
   "id": "41819940",
   "metadata": {},
   "outputs": [],
   "source": [
    "from sklearn.svm import SVC"
   ]
  },
  {
   "cell_type": "code",
   "execution_count": 69,
   "id": "4cb784da",
   "metadata": {},
   "outputs": [],
   "source": [
    "svm_classifier = SVC(kernel='linear')\n",
    "svm_classifier.fit(X_train, y_train)\n",
    "y_pred4 = svm_classifier.predict(X_val)"
   ]
  },
  {
   "cell_type": "code",
   "execution_count": 70,
   "id": "d12c839b",
   "metadata": {},
   "outputs": [
    {
     "data": {
      "text/plain": [
       "<Axes: >"
      ]
     },
     "execution_count": 70,
     "metadata": {},
     "output_type": "execute_result"
    },
    {
     "data": {
      "image/png": "[encoded data removed]",
      "text/plain": [
       "<Figure size 640x480 with 2 Axes>"
      ]
     },
     "metadata": {},
     "output_type": "display_data"
    }
   ],
   "source": [
    "plot(y_val,y_pred4)"
   ]
  },
  {
   "cell_type": "code",
   "execution_count": 71,
   "id": "f9ab9c44",
   "metadata": {},
   "outputs": [
    {
     "name": "stdout",
     "output_type": "stream",
     "text": [
      "Precisión: 0.5168481078278901\n",
      "Informe de Clasificación:\n",
      "\n",
      "              precision    recall  f1-score   support\n",
      "\n",
      "           4       1.00      0.00      0.00        72\n",
      "           5       0.57      0.59      0.58       624\n",
      "           6       0.49      0.76      0.59       829\n",
      "           7       1.00      0.00      0.00       340\n",
      "           8       1.00      0.00      0.00        64\n",
      "\n",
      "    accuracy                           0.52      1929\n",
      "   macro avg       0.81      0.27      0.24      1929\n",
      "weighted avg       0.64      0.52      0.44      1929\n",
      "\n"
     ]
    }
   ],
   "source": [
    "resultadosModelo(y_val, y_pred4)"
   ]
  },
  {
   "cell_type": "markdown",
   "id": "c5db987b",
   "metadata": {},
   "source": [
    "# MLP (Multilayer perceptron)"
   ]
  },
  {
   "cell_type": "code",
   "execution_count": 72,
   "id": "ebc2d94b",
   "metadata": {},
   "outputs": [],
   "source": [
    "from sklearn.neural_network import MLPClassifier"
   ]
  },
  {
   "cell_type": "code",
   "execution_count": 73,
   "id": "5f481422",
   "metadata": {},
   "outputs": [],
   "source": [
    "mlp = MLPClassifier(hidden_layer_sizes=(50,50), max_iter=10000)\n",
    "mlp.fit(X_train, y_train)\n",
    "y_pred5 = mlp.predict(X_val)"
   ]
  },
  {
   "cell_type": "code",
   "execution_count": 74,
   "id": "8455b7fc",
   "metadata": {},
   "outputs": [
    {
     "data": {
      "text/plain": [
       "<Axes: >"
      ]
     },
     "execution_count": 74,
     "metadata": {},
     "output_type": "execute_result"
    },
    {
     "data": {
      "image/png": "[encoded data removed]",
      "text/plain": [
       "<Figure size 640x480 with 2 Axes>"
      ]
     },
     "metadata": {},
     "output_type": "display_data"
    }
   ],
   "source": [
    "plot(y_val,y_pred5)"
   ]
  },
  {
   "cell_type": "code",
   "execution_count": 75,
   "id": "1e27c622",
   "metadata": {},
   "outputs": [
    {
     "name": "stdout",
     "output_type": "stream",
     "text": [
      "Precisión: 0.5660964230171073\n",
      "Informe de Clasificación:\n",
      "\n",
      "              precision    recall  f1-score   support\n",
      "\n",
      "           4       0.62      0.11      0.19        72\n",
      "           5       0.62      0.66      0.64       624\n",
      "           6       0.55      0.65      0.60       829\n",
      "           7       0.49      0.38      0.43       340\n",
      "           8       0.00      0.00      1.00        64\n",
      "\n",
      "    accuracy                           0.57      1929\n",
      "   macro avg       0.46      0.36      0.57      1929\n",
      "weighted avg       0.55      0.57      0.58      1929\n",
      "\n"
     ]
    }
   ],
   "source": [
    "resultadosModelo(y_val, y_pred5)"
   ]
  },
  {
   "cell_type": "markdown",
   "id": "8f44b883",
   "metadata": {},
   "source": [
    "# TensorFlow"
   ]
  },
  {
   "cell_type": "code",
   "execution_count": 76,
   "id": "3f59a10b",
   "metadata": {},
   "outputs": [],
   "source": [
    "import tensorflow as tf\n",
    "from tensorflow import keras\n",
    "\n",
    "y_train_array = y_train.values\n",
    "y_val_array = y_val.values\n",
    "# Ensure the values are integers, as to_categorical expects integers\n",
    "y_train_array = y_train_array.astype(int)\n",
    "y_val_array = y_val_array.astype(int)\n",
    "# Subtract 1 from y_train_array because to_categorical assumes that the classes start from 0\n",
    "y_train_array = y_train_array - 4\n",
    "y_val_array = y_val_array - 4\n",
    "# Convert to one-hot encoding\n",
    "y_train2 = keras.utils.to_categorical(y_train_array, num_classes=5)\n",
    "y_val2 = keras.utils.to_categorical(y_val_array, num_classes=5)"
   ]
  },
  {
   "cell_type": "code",
   "execution_count": 77,
   "id": "c5c454d2",
   "metadata": {},
   "outputs": [
    {
     "ename": "NameError",
     "evalue": "name 'tf' is not defined",
     "output_type": "error",
     "traceback": [
      "\u001b[1;31m---------------------------------------------------------------------------\u001b[0m",
      "\u001b[1;31mNameError\u001b[0m                                 Traceback (most recent call last)",
      "\u001b[1;32mc:\\Users\\benju\\IC2\\PROYECTO\\VINO\\Calidad del Vino.ipynb Cell 49\u001b[0m line \u001b[0;36m1\n\u001b[1;32m----> <a href='vscode-notebook-cell:/c%3A/Users/benju/IC2/PROYECTO/VINO/Calidad%20del%20Vino.ipynb#Y164sZmlsZQ%3D%3D?line=0'>1</a>\u001b[0m model \u001b[39m=\u001b[39m tf\u001b[39m.\u001b[39mkeras\u001b[39m.\u001b[39mmodels\u001b[39m.\u001b[39mSequential([\n\u001b[0;32m      <a href='vscode-notebook-cell:/c%3A/Users/benju/IC2/PROYECTO/VINO/Calidad%20del%20Vino.ipynb#Y164sZmlsZQ%3D%3D?line=1'>2</a>\u001b[0m   \n\u001b[0;32m      <a href='vscode-notebook-cell:/c%3A/Users/benju/IC2/PROYECTO/VINO/Calidad%20del%20Vino.ipynb#Y164sZmlsZQ%3D%3D?line=2'>3</a>\u001b[0m   keras\u001b[39m.\u001b[39mlayers\u001b[39m.\u001b[39mDense(\u001b[39m100\u001b[39m, activation\u001b[39m=\u001b[39m\u001b[39m'\u001b[39m\u001b[39mselu\u001b[39m\u001b[39m'\u001b[39m, input_shape\u001b[39m=\u001b[39m(\u001b[39m12\u001b[39m,), kernel_regularizer\u001b[39m=\u001b[39mkeras\u001b[39m.\u001b[39mregularizers\u001b[39m.\u001b[39ml2(\u001b[39m0.001\u001b[39m)),\n\u001b[0;32m      <a href='vscode-notebook-cell:/c%3A/Users/benju/IC2/PROYECTO/VINO/Calidad%20del%20Vino.ipynb#Y164sZmlsZQ%3D%3D?line=3'>4</a>\u001b[0m   keras\u001b[39m.\u001b[39mlayers\u001b[39m.\u001b[39mDropout(\u001b[39m0.5\u001b[39m),\n\u001b[0;32m      <a href='vscode-notebook-cell:/c%3A/Users/benju/IC2/PROYECTO/VINO/Calidad%20del%20Vino.ipynb#Y164sZmlsZQ%3D%3D?line=4'>5</a>\u001b[0m   keras\u001b[39m.\u001b[39mlayers\u001b[39m.\u001b[39mDense(\u001b[39m50\u001b[39m, activation\u001b[39m=\u001b[39m\u001b[39m'\u001b[39m\u001b[39mselu\u001b[39m\u001b[39m'\u001b[39m, kernel_regularizer\u001b[39m=\u001b[39mkeras\u001b[39m.\u001b[39mregularizers\u001b[39m.\u001b[39ml2(\u001b[39m0.001\u001b[39m)),\n\u001b[0;32m      <a href='vscode-notebook-cell:/c%3A/Users/benju/IC2/PROYECTO/VINO/Calidad%20del%20Vino.ipynb#Y164sZmlsZQ%3D%3D?line=5'>6</a>\u001b[0m   keras\u001b[39m.\u001b[39mlayers\u001b[39m.\u001b[39mDropout(\u001b[39m0.5\u001b[39m),\n\u001b[0;32m      <a href='vscode-notebook-cell:/c%3A/Users/benju/IC2/PROYECTO/VINO/Calidad%20del%20Vino.ipynb#Y164sZmlsZQ%3D%3D?line=6'>7</a>\u001b[0m   keras\u001b[39m.\u001b[39mlayers\u001b[39m.\u001b[39mDense(\u001b[39m25\u001b[39m, activation\u001b[39m=\u001b[39m\u001b[39m'\u001b[39m\u001b[39mselu\u001b[39m\u001b[39m'\u001b[39m, kernel_regularizer\u001b[39m=\u001b[39mkeras\u001b[39m.\u001b[39mregularizers\u001b[39m.\u001b[39ml2(\u001b[39m0.001\u001b[39m)),\n\u001b[0;32m      <a href='vscode-notebook-cell:/c%3A/Users/benju/IC2/PROYECTO/VINO/Calidad%20del%20Vino.ipynb#Y164sZmlsZQ%3D%3D?line=7'>8</a>\u001b[0m   keras\u001b[39m.\u001b[39mlayers\u001b[39m.\u001b[39mDropout(\u001b[39m0.5\u001b[39m),\n\u001b[0;32m      <a href='vscode-notebook-cell:/c%3A/Users/benju/IC2/PROYECTO/VINO/Calidad%20del%20Vino.ipynb#Y164sZmlsZQ%3D%3D?line=8'>9</a>\u001b[0m   keras\u001b[39m.\u001b[39mlayers\u001b[39m.\u001b[39mDense(\u001b[39m5\u001b[39m, activation\u001b[39m=\u001b[39m\u001b[39m'\u001b[39m\u001b[39msoftmax\u001b[39m\u001b[39m'\u001b[39m)\n\u001b[0;32m     <a href='vscode-notebook-cell:/c%3A/Users/benju/IC2/PROYECTO/VINO/Calidad%20del%20Vino.ipynb#Y164sZmlsZQ%3D%3D?line=9'>10</a>\u001b[0m ])\n\u001b[0;32m     <a href='vscode-notebook-cell:/c%3A/Users/benju/IC2/PROYECTO/VINO/Calidad%20del%20Vino.ipynb#Y164sZmlsZQ%3D%3D?line=12'>13</a>\u001b[0m model\u001b[39m.\u001b[39mcompile(loss\u001b[39m=\u001b[39m\u001b[39m'\u001b[39m\u001b[39mcategorical_crossentropy\u001b[39m\u001b[39m'\u001b[39m, optimizer\u001b[39m=\u001b[39m\u001b[39m'\u001b[39m\u001b[39madam\u001b[39m\u001b[39m'\u001b[39m, metrics\u001b[39m=\u001b[39m[\u001b[39m'\u001b[39m\u001b[39maccuracy\u001b[39m\u001b[39m'\u001b[39m])\n",
      "\u001b[1;31mNameError\u001b[0m: name 'tf' is not defined"
     ]
    }
   ],
   "source": [
    "model = tf.keras.models.Sequential([\n",
    "  \n",
    "  keras.layers.Dense(100, activation='selu', input_shape=(12,), kernel_regularizer=keras.regularizers.l2(0.001)),\n",
    "  keras.layers.Dropout(0.5),\n",
    "  keras.layers.Dense(50, activation='selu', kernel_regularizer=keras.regularizers.l2(0.001)),\n",
    "  keras.layers.Dropout(0.5),\n",
    "  keras.layers.Dense(25, activation='selu', kernel_regularizer=keras.regularizers.l2(0.001)),\n",
    "  keras.layers.Dropout(0.5),\n",
    "  keras.layers.Dense(5, activation='softmax')\n",
    "])\n",
    "\n",
    "\n",
    "model.compile(loss='categorical_crossentropy', optimizer='adam', metrics=['accuracy'])"
   ]
  },
  {
   "cell_type": "code",
   "execution_count": null,
   "id": "dd34d7cb",
   "metadata": {},
   "outputs": [],
   "source": [
    "history = model.fit(X_train, y_train2, batch_size=32, epochs=1000, verbose=2, \n",
    "                    shuffle=True, validation_data=(X_val, y_val2))\n",
    "\n",
    "\n",
    "print(history.history.keys())"
   ]
  },
  {
   "cell_type": "code",
   "execution_count": null,
   "id": "aa5e8223",
   "metadata": {},
   "outputs": [],
   "source": [
    "q = model.predict(X_val)\n",
    "q = np.argmax(q, axis = 1)\n",
    "plot(y_val_array,q)"
   ]
  }
 ],
 "metadata": {
  "kernelspec": {
   "display_name": "Python 3 (ipykernel)",
   "language": "python",
   "name": "python3"
  },
  "language_info": {
   "codemirror_mode": {
    "name": "ipython",
    "version": 3
   },
   "file_extension": ".py",
   "mimetype": "text/x-python",
   "name": "python",
   "nbconvert_exporter": "python",
   "pygments_lexer": "ipython3",
   "version": "3.10.13"
  }
 },
 "nbformat": 4,
 "nbformat_minor": 5
}
