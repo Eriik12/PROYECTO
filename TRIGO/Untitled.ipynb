{
 "cells": [
  {
   "cell_type": "code",
   "execution_count": 11,
   "id": "173d402c",
   "metadata": {},
   "outputs": [],
   "source": [
    "import pandas as pd\n",
    "import numpy as np"
   ]
  },
  {
   "cell_type": "code",
   "execution_count": 12,
   "id": "649d0de9",
   "metadata": {},
   "outputs": [],
   "source": [
    "datos=pd.read_csv(\"wheat.csv\")"
   ]
  },
  {
   "cell_type": "code",
   "execution_count": 13,
   "id": "16e6cec5",
   "metadata": {},
   "outputs": [
    {
     "data": {
      "text/html": [
       "<div>\n",
       "<style scoped>\n",
       "    .dataframe tbody tr th:only-of-type {\n",
       "        vertical-align: middle;\n",
       "    }\n",
       "\n",
       "    .dataframe tbody tr th {\n",
       "        vertical-align: top;\n",
       "    }\n",
       "\n",
       "    .dataframe thead th {\n",
       "        text-align: right;\n",
       "    }\n",
       "</style>\n",
       "<table border=\"1\" class=\"dataframe\">\n",
       "  <thead>\n",
       "    <tr style=\"text-align: right;\">\n",
       "      <th></th>\n",
       "      <th>area</th>\n",
       "      <th>perimeter</th>\n",
       "      <th>compactness</th>\n",
       "      <th>length</th>\n",
       "      <th>width</th>\n",
       "      <th>asymmetry coefficient</th>\n",
       "      <th>groove length</th>\n",
       "      <th>category</th>\n",
       "    </tr>\n",
       "  </thead>\n",
       "  <tbody>\n",
       "    <tr>\n",
       "      <th>0</th>\n",
       "      <td>15.26</td>\n",
       "      <td>14.84</td>\n",
       "      <td>0.8710</td>\n",
       "      <td>5.763</td>\n",
       "      <td>3.312</td>\n",
       "      <td>2.221</td>\n",
       "      <td>5.220</td>\n",
       "      <td>1.0</td>\n",
       "    </tr>\n",
       "    <tr>\n",
       "      <th>1</th>\n",
       "      <td>14.88</td>\n",
       "      <td>14.57</td>\n",
       "      <td>0.8811</td>\n",
       "      <td>5.554</td>\n",
       "      <td>3.333</td>\n",
       "      <td>1.018</td>\n",
       "      <td>4.956</td>\n",
       "      <td>1.0</td>\n",
       "    </tr>\n",
       "    <tr>\n",
       "      <th>2</th>\n",
       "      <td>14.29</td>\n",
       "      <td>14.09</td>\n",
       "      <td>0.9050</td>\n",
       "      <td>5.291</td>\n",
       "      <td>3.337</td>\n",
       "      <td>2.699</td>\n",
       "      <td>4.825</td>\n",
       "      <td>1.0</td>\n",
       "    </tr>\n",
       "    <tr>\n",
       "      <th>3</th>\n",
       "      <td>13.84</td>\n",
       "      <td>13.94</td>\n",
       "      <td>0.8955</td>\n",
       "      <td>5.324</td>\n",
       "      <td>3.379</td>\n",
       "      <td>2.259</td>\n",
       "      <td>4.805</td>\n",
       "      <td>1.0</td>\n",
       "    </tr>\n",
       "    <tr>\n",
       "      <th>4</th>\n",
       "      <td>16.14</td>\n",
       "      <td>14.99</td>\n",
       "      <td>0.9034</td>\n",
       "      <td>5.658</td>\n",
       "      <td>3.562</td>\n",
       "      <td>1.355</td>\n",
       "      <td>5.175</td>\n",
       "      <td>1.0</td>\n",
       "    </tr>\n",
       "    <tr>\n",
       "      <th>...</th>\n",
       "      <td>...</td>\n",
       "      <td>...</td>\n",
       "      <td>...</td>\n",
       "      <td>...</td>\n",
       "      <td>...</td>\n",
       "      <td>...</td>\n",
       "      <td>...</td>\n",
       "      <td>...</td>\n",
       "    </tr>\n",
       "    <tr>\n",
       "      <th>205</th>\n",
       "      <td>12.19</td>\n",
       "      <td>13.20</td>\n",
       "      <td>0.8783</td>\n",
       "      <td>5.137</td>\n",
       "      <td>2.981</td>\n",
       "      <td>3.631</td>\n",
       "      <td>4.870</td>\n",
       "      <td>3.0</td>\n",
       "    </tr>\n",
       "    <tr>\n",
       "      <th>206</th>\n",
       "      <td>11.23</td>\n",
       "      <td>12.88</td>\n",
       "      <td>0.8511</td>\n",
       "      <td>5.140</td>\n",
       "      <td>2.795</td>\n",
       "      <td>4.325</td>\n",
       "      <td>5.003</td>\n",
       "      <td>3.0</td>\n",
       "    </tr>\n",
       "    <tr>\n",
       "      <th>207</th>\n",
       "      <td>13.20</td>\n",
       "      <td>13.66</td>\n",
       "      <td>0.8883</td>\n",
       "      <td>5.236</td>\n",
       "      <td>3.232</td>\n",
       "      <td>8.315</td>\n",
       "      <td>5.056</td>\n",
       "      <td>3.0</td>\n",
       "    </tr>\n",
       "    <tr>\n",
       "      <th>208</th>\n",
       "      <td>11.84</td>\n",
       "      <td>13.21</td>\n",
       "      <td>0.8521</td>\n",
       "      <td>5.175</td>\n",
       "      <td>2.836</td>\n",
       "      <td>3.598</td>\n",
       "      <td>5.044</td>\n",
       "      <td>3.0</td>\n",
       "    </tr>\n",
       "    <tr>\n",
       "      <th>209</th>\n",
       "      <td>12.30</td>\n",
       "      <td>13.34</td>\n",
       "      <td>0.8684</td>\n",
       "      <td>5.243</td>\n",
       "      <td>2.974</td>\n",
       "      <td>5.637</td>\n",
       "      <td>5.063</td>\n",
       "      <td>3.0</td>\n",
       "    </tr>\n",
       "  </tbody>\n",
       "</table>\n",
       "<p>210 rows × 8 columns</p>\n",
       "</div>"
      ],
      "text/plain": [
       "      area  perimeter  compactness  length  width  asymmetry coefficient  \\\n",
       "0    15.26      14.84       0.8710   5.763  3.312                  2.221   \n",
       "1    14.88      14.57       0.8811   5.554  3.333                  1.018   \n",
       "2    14.29      14.09       0.9050   5.291  3.337                  2.699   \n",
       "3    13.84      13.94       0.8955   5.324  3.379                  2.259   \n",
       "4    16.14      14.99       0.9034   5.658  3.562                  1.355   \n",
       "..     ...        ...          ...     ...    ...                    ...   \n",
       "205  12.19      13.20       0.8783   5.137  2.981                  3.631   \n",
       "206  11.23      12.88       0.8511   5.140  2.795                  4.325   \n",
       "207  13.20      13.66       0.8883   5.236  3.232                  8.315   \n",
       "208  11.84      13.21       0.8521   5.175  2.836                  3.598   \n",
       "209  12.30      13.34       0.8684   5.243  2.974                  5.637   \n",
       "\n",
       "     groove length  category  \n",
       "0            5.220       1.0  \n",
       "1            4.956       1.0  \n",
       "2            4.825       1.0  \n",
       "3            4.805       1.0  \n",
       "4            5.175       1.0  \n",
       "..             ...       ...  \n",
       "205          4.870       3.0  \n",
       "206          5.003       3.0  \n",
       "207          5.056       3.0  \n",
       "208          5.044       3.0  \n",
       "209          5.063       3.0  \n",
       "\n",
       "[210 rows x 8 columns]"
      ]
     },
     "execution_count": 13,
     "metadata": {},
     "output_type": "execute_result"
    }
   ],
   "source": [
    "datos"
   ]
  },
  {
   "cell_type": "code",
   "execution_count": 14,
   "id": "608c02b0",
   "metadata": {},
   "outputs": [
    {
     "data": {
      "text/plain": [
       "<Axes: title={'center': 'datos'}, xlabel='category'>"
      ]
     },
     "execution_count": 14,
     "metadata": {},
     "output_type": "execute_result"
    },
    {
     "data": {
      "image/png": "[encoded data removed]",
      "text/plain": [
       "<Figure size 640x480 with 1 Axes>"
      ]
     },
     "metadata": {},
     "output_type": "display_data"
    }
   ],
   "source": [
    "datos[\"category\"].value_counts().plot(kind='bar', title='datos')"
   ]
  },
  {
   "attachments": {},
   "cell_type": "markdown",
   "id": "ea215d6b",
   "metadata": {},
   "source": [
    "ELIMINAR LINEAL DEPENDIENTES"
   ]
  },
  {
   "cell_type": "code",
   "execution_count": 15,
   "id": "34a404e5",
   "metadata": {},
   "outputs": [],
   "source": [
    "eliminar=['area','length','width']"
   ]
  },
  {
   "cell_type": "code",
   "execution_count": 16,
   "id": "30e047c7",
   "metadata": {},
   "outputs": [],
   "source": [
    "datos=datos.drop(eliminar,axis=1)"
   ]
  },
  {
   "cell_type": "code",
   "execution_count": 17,
   "id": "0e72c6be",
   "metadata": {},
   "outputs": [
    {
     "data": {
      "text/html": [
       "<div>\n",
       "<style scoped>\n",
       "    .dataframe tbody tr th:only-of-type {\n",
       "        vertical-align: middle;\n",
       "    }\n",
       "\n",
       "    .dataframe tbody tr th {\n",
       "        vertical-align: top;\n",
       "    }\n",
       "\n",
       "    .dataframe thead th {\n",
       "        text-align: right;\n",
       "    }\n",
       "</style>\n",
       "<table border=\"1\" class=\"dataframe\">\n",
       "  <thead>\n",
       "    <tr style=\"text-align: right;\">\n",
       "      <th></th>\n",
       "      <th>perimeter</th>\n",
       "      <th>compactness</th>\n",
       "      <th>asymmetry coefficient</th>\n",
       "      <th>groove length</th>\n",
       "      <th>category</th>\n",
       "    </tr>\n",
       "  </thead>\n",
       "  <tbody>\n",
       "    <tr>\n",
       "      <th>0</th>\n",
       "      <td>14.84</td>\n",
       "      <td>0.8710</td>\n",
       "      <td>2.221</td>\n",
       "      <td>5.220</td>\n",
       "      <td>1.0</td>\n",
       "    </tr>\n",
       "    <tr>\n",
       "      <th>1</th>\n",
       "      <td>14.57</td>\n",
       "      <td>0.8811</td>\n",
       "      <td>1.018</td>\n",
       "      <td>4.956</td>\n",
       "      <td>1.0</td>\n",
       "    </tr>\n",
       "    <tr>\n",
       "      <th>2</th>\n",
       "      <td>14.09</td>\n",
       "      <td>0.9050</td>\n",
       "      <td>2.699</td>\n",
       "      <td>4.825</td>\n",
       "      <td>1.0</td>\n",
       "    </tr>\n",
       "    <tr>\n",
       "      <th>3</th>\n",
       "      <td>13.94</td>\n",
       "      <td>0.8955</td>\n",
       "      <td>2.259</td>\n",
       "      <td>4.805</td>\n",
       "      <td>1.0</td>\n",
       "    </tr>\n",
       "    <tr>\n",
       "      <th>4</th>\n",
       "      <td>14.99</td>\n",
       "      <td>0.9034</td>\n",
       "      <td>1.355</td>\n",
       "      <td>5.175</td>\n",
       "      <td>1.0</td>\n",
       "    </tr>\n",
       "    <tr>\n",
       "      <th>...</th>\n",
       "      <td>...</td>\n",
       "      <td>...</td>\n",
       "      <td>...</td>\n",
       "      <td>...</td>\n",
       "      <td>...</td>\n",
       "    </tr>\n",
       "    <tr>\n",
       "      <th>205</th>\n",
       "      <td>13.20</td>\n",
       "      <td>0.8783</td>\n",
       "      <td>3.631</td>\n",
       "      <td>4.870</td>\n",
       "      <td>3.0</td>\n",
       "    </tr>\n",
       "    <tr>\n",
       "      <th>206</th>\n",
       "      <td>12.88</td>\n",
       "      <td>0.8511</td>\n",
       "      <td>4.325</td>\n",
       "      <td>5.003</td>\n",
       "      <td>3.0</td>\n",
       "    </tr>\n",
       "    <tr>\n",
       "      <th>207</th>\n",
       "      <td>13.66</td>\n",
       "      <td>0.8883</td>\n",
       "      <td>8.315</td>\n",
       "      <td>5.056</td>\n",
       "      <td>3.0</td>\n",
       "    </tr>\n",
       "    <tr>\n",
       "      <th>208</th>\n",
       "      <td>13.21</td>\n",
       "      <td>0.8521</td>\n",
       "      <td>3.598</td>\n",
       "      <td>5.044</td>\n",
       "      <td>3.0</td>\n",
       "    </tr>\n",
       "    <tr>\n",
       "      <th>209</th>\n",
       "      <td>13.34</td>\n",
       "      <td>0.8684</td>\n",
       "      <td>5.637</td>\n",
       "      <td>5.063</td>\n",
       "      <td>3.0</td>\n",
       "    </tr>\n",
       "  </tbody>\n",
       "</table>\n",
       "<p>210 rows × 5 columns</p>\n",
       "</div>"
      ],
      "text/plain": [
       "     perimeter  compactness  asymmetry coefficient  groove length  category\n",
       "0        14.84       0.8710                  2.221          5.220       1.0\n",
       "1        14.57       0.8811                  1.018          4.956       1.0\n",
       "2        14.09       0.9050                  2.699          4.825       1.0\n",
       "3        13.94       0.8955                  2.259          4.805       1.0\n",
       "4        14.99       0.9034                  1.355          5.175       1.0\n",
       "..         ...          ...                    ...            ...       ...\n",
       "205      13.20       0.8783                  3.631          4.870       3.0\n",
       "206      12.88       0.8511                  4.325          5.003       3.0\n",
       "207      13.66       0.8883                  8.315          5.056       3.0\n",
       "208      13.21       0.8521                  3.598          5.044       3.0\n",
       "209      13.34       0.8684                  5.637          5.063       3.0\n",
       "\n",
       "[210 rows x 5 columns]"
      ]
     },
     "execution_count": 17,
     "metadata": {},
     "output_type": "execute_result"
    }
   ],
   "source": [
    "datos"
   ]
  },
  {
   "cell_type": "code",
   "execution_count": 18,
   "id": "d7a249a0",
   "metadata": {},
   "outputs": [],
   "source": [
    "cor=datos.corr()"
   ]
  },
  {
   "cell_type": "code",
   "execution_count": 19,
   "id": "fbd2412a",
   "metadata": {},
   "outputs": [
    {
     "data": {
      "text/html": [
       "<div>\n",
       "<style scoped>\n",
       "    .dataframe tbody tr th:only-of-type {\n",
       "        vertical-align: middle;\n",
       "    }\n",
       "\n",
       "    .dataframe tbody tr th {\n",
       "        vertical-align: top;\n",
       "    }\n",
       "\n",
       "    .dataframe thead th {\n",
       "        text-align: right;\n",
       "    }\n",
       "</style>\n",
       "<table border=\"1\" class=\"dataframe\">\n",
       "  <thead>\n",
       "    <tr style=\"text-align: right;\">\n",
       "      <th></th>\n",
       "      <th>perimeter</th>\n",
       "      <th>compactness</th>\n",
       "      <th>asymmetry coefficient</th>\n",
       "      <th>groove length</th>\n",
       "      <th>category</th>\n",
       "    </tr>\n",
       "  </thead>\n",
       "  <tbody>\n",
       "    <tr>\n",
       "      <th>perimeter</th>\n",
       "      <td>1.000000</td>\n",
       "      <td>0.529244</td>\n",
       "      <td>-0.217340</td>\n",
       "      <td>0.890784</td>\n",
       "      <td>-0.327900</td>\n",
       "    </tr>\n",
       "    <tr>\n",
       "      <th>compactness</th>\n",
       "      <td>0.529244</td>\n",
       "      <td>1.000000</td>\n",
       "      <td>-0.331471</td>\n",
       "      <td>0.226825</td>\n",
       "      <td>-0.531007</td>\n",
       "    </tr>\n",
       "    <tr>\n",
       "      <th>asymmetry coefficient</th>\n",
       "      <td>-0.217340</td>\n",
       "      <td>-0.331471</td>\n",
       "      <td>1.000000</td>\n",
       "      <td>-0.011079</td>\n",
       "      <td>0.577273</td>\n",
       "    </tr>\n",
       "    <tr>\n",
       "      <th>groove length</th>\n",
       "      <td>0.890784</td>\n",
       "      <td>0.226825</td>\n",
       "      <td>-0.011079</td>\n",
       "      <td>1.000000</td>\n",
       "      <td>0.024301</td>\n",
       "    </tr>\n",
       "    <tr>\n",
       "      <th>category</th>\n",
       "      <td>-0.327900</td>\n",
       "      <td>-0.531007</td>\n",
       "      <td>0.577273</td>\n",
       "      <td>0.024301</td>\n",
       "      <td>1.000000</td>\n",
       "    </tr>\n",
       "  </tbody>\n",
       "</table>\n",
       "</div>"
      ],
      "text/plain": [
       "                       perimeter  compactness  asymmetry coefficient  \\\n",
       "perimeter               1.000000     0.529244              -0.217340   \n",
       "compactness             0.529244     1.000000              -0.331471   \n",
       "asymmetry coefficient  -0.217340    -0.331471               1.000000   \n",
       "groove length           0.890784     0.226825              -0.011079   \n",
       "category               -0.327900    -0.531007               0.577273   \n",
       "\n",
       "                       groove length  category  \n",
       "perimeter                   0.890784 -0.327900  \n",
       "compactness                 0.226825 -0.531007  \n",
       "asymmetry coefficient      -0.011079  0.577273  \n",
       "groove length               1.000000  0.024301  \n",
       "category                    0.024301  1.000000  "
      ]
     },
     "execution_count": 19,
     "metadata": {},
     "output_type": "execute_result"
    }
   ],
   "source": [
    "cor"
   ]
  },
  {
   "attachments": {},
   "cell_type": "markdown",
   "id": "74a05bb1",
   "metadata": {},
   "source": [
    "NORMALIZACION(PENDIENTE)"
   ]
  },
  {
   "cell_type": "code",
   "execution_count": 20,
   "id": "1dcf97d9",
   "metadata": {},
   "outputs": [],
   "source": [
    "from sklearn.preprocessing import normalize\n",
    "\n",
    "normalized_data = normalize(datos, axis=0)\n",
    "datosN = pd.DataFrame(normalized_data, columns=datos.columns)\n",
    "datosN = datosN.iloc[:, :-1]"
   ]
  },
  {
   "cell_type": "code",
   "execution_count": 21,
   "id": "b422d12b",
   "metadata": {},
   "outputs": [
    {
     "data": {
      "text/html": [
       "<div>\n",
       "<style scoped>\n",
       "    .dataframe tbody tr th:only-of-type {\n",
       "        vertical-align: middle;\n",
       "    }\n",
       "\n",
       "    .dataframe tbody tr th {\n",
       "        vertical-align: top;\n",
       "    }\n",
       "\n",
       "    .dataframe thead th {\n",
       "        text-align: right;\n",
       "    }\n",
       "</style>\n",
       "<table border=\"1\" class=\"dataframe\">\n",
       "  <thead>\n",
       "    <tr style=\"text-align: right;\">\n",
       "      <th></th>\n",
       "      <th>perimeter</th>\n",
       "      <th>compactness</th>\n",
       "      <th>asymmetry coefficient</th>\n",
       "      <th>groove length</th>\n",
       "    </tr>\n",
       "  </thead>\n",
       "  <tbody>\n",
       "    <tr>\n",
       "      <th>0</th>\n",
       "      <td>0.070057</td>\n",
       "      <td>0.068981</td>\n",
       "      <td>0.038386</td>\n",
       "      <td>0.066335</td>\n",
       "    </tr>\n",
       "    <tr>\n",
       "      <th>1</th>\n",
       "      <td>0.068782</td>\n",
       "      <td>0.069781</td>\n",
       "      <td>0.017594</td>\n",
       "      <td>0.062980</td>\n",
       "    </tr>\n",
       "    <tr>\n",
       "      <th>2</th>\n",
       "      <td>0.066516</td>\n",
       "      <td>0.071674</td>\n",
       "      <td>0.046648</td>\n",
       "      <td>0.061315</td>\n",
       "    </tr>\n",
       "    <tr>\n",
       "      <th>3</th>\n",
       "      <td>0.065808</td>\n",
       "      <td>0.070922</td>\n",
       "      <td>0.039043</td>\n",
       "      <td>0.061061</td>\n",
       "    </tr>\n",
       "    <tr>\n",
       "      <th>4</th>\n",
       "      <td>0.070765</td>\n",
       "      <td>0.071547</td>\n",
       "      <td>0.023419</td>\n",
       "      <td>0.065763</td>\n",
       "    </tr>\n",
       "    <tr>\n",
       "      <th>...</th>\n",
       "      <td>...</td>\n",
       "      <td>...</td>\n",
       "      <td>...</td>\n",
       "      <td>...</td>\n",
       "    </tr>\n",
       "    <tr>\n",
       "      <th>205</th>\n",
       "      <td>0.062315</td>\n",
       "      <td>0.069560</td>\n",
       "      <td>0.062756</td>\n",
       "      <td>0.061887</td>\n",
       "    </tr>\n",
       "    <tr>\n",
       "      <th>206</th>\n",
       "      <td>0.060804</td>\n",
       "      <td>0.067405</td>\n",
       "      <td>0.074750</td>\n",
       "      <td>0.063577</td>\n",
       "    </tr>\n",
       "    <tr>\n",
       "      <th>207</th>\n",
       "      <td>0.064487</td>\n",
       "      <td>0.070352</td>\n",
       "      <td>0.143711</td>\n",
       "      <td>0.064251</td>\n",
       "    </tr>\n",
       "    <tr>\n",
       "      <th>208</th>\n",
       "      <td>0.062362</td>\n",
       "      <td>0.067485</td>\n",
       "      <td>0.062185</td>\n",
       "      <td>0.064098</td>\n",
       "    </tr>\n",
       "    <tr>\n",
       "      <th>209</th>\n",
       "      <td>0.062976</td>\n",
       "      <td>0.068775</td>\n",
       "      <td>0.097426</td>\n",
       "      <td>0.064340</td>\n",
       "    </tr>\n",
       "  </tbody>\n",
       "</table>\n",
       "<p>210 rows × 4 columns</p>\n",
       "</div>"
      ],
      "text/plain": [
       "     perimeter  compactness  asymmetry coefficient  groove length\n",
       "0     0.070057     0.068981               0.038386       0.066335\n",
       "1     0.068782     0.069781               0.017594       0.062980\n",
       "2     0.066516     0.071674               0.046648       0.061315\n",
       "3     0.065808     0.070922               0.039043       0.061061\n",
       "4     0.070765     0.071547               0.023419       0.065763\n",
       "..         ...          ...                    ...            ...\n",
       "205   0.062315     0.069560               0.062756       0.061887\n",
       "206   0.060804     0.067405               0.074750       0.063577\n",
       "207   0.064487     0.070352               0.143711       0.064251\n",
       "208   0.062362     0.067485               0.062185       0.064098\n",
       "209   0.062976     0.068775               0.097426       0.064340\n",
       "\n",
       "[210 rows x 4 columns]"
      ]
     },
     "execution_count": 21,
     "metadata": {},
     "output_type": "execute_result"
    }
   ],
   "source": [
    "datosN"
   ]
  },
  {
   "cell_type": "code",
   "execution_count": 22,
   "id": "9fbc0eba",
   "metadata": {},
   "outputs": [],
   "source": [
    "X = datosN\n",
    "Y = datos['category']\n"
   ]
  },
  {
   "cell_type": "code",
   "execution_count": 23,
   "id": "0419a465",
   "metadata": {},
   "outputs": [
    {
     "data": {
      "text/plain": [
       "0      1.0\n",
       "1      1.0\n",
       "2      1.0\n",
       "3      1.0\n",
       "4      1.0\n",
       "      ... \n",
       "205    3.0\n",
       "206    3.0\n",
       "207    3.0\n",
       "208    3.0\n",
       "209    3.0\n",
       "Name: category, Length: 210, dtype: float64"
      ]
     },
     "execution_count": 23,
     "metadata": {},
     "output_type": "execute_result"
    }
   ],
   "source": [
    "Y"
   ]
  },
  {
   "attachments": {},
   "cell_type": "markdown",
   "id": "e812a19b",
   "metadata": {},
   "source": [
    "DIVISION DATOS 80/20"
   ]
  },
  {
   "cell_type": "code",
   "execution_count": 24,
   "id": "0bfca858",
   "metadata": {},
   "outputs": [],
   "source": [
    "\n",
    "from sklearn.model_selection import train_test_split\n",
    "X_train, X_val, y_train, y_val = train_test_split(X,Y, test_size=0.2, random_state=42)"
   ]
  },
  {
   "attachments": {},
   "cell_type": "markdown",
   "id": "fb1aa85d",
   "metadata": {},
   "source": [
    "RANDOM FOREST"
   ]
  },
  {
   "cell_type": "code",
   "execution_count": 25,
   "id": "880e60ea",
   "metadata": {},
   "outputs": [],
   "source": [
    "from sklearn.ensemble import RandomForestClassifier"
   ]
  },
  {
   "cell_type": "code",
   "execution_count": 26,
   "id": "6ed8d55f",
   "metadata": {},
   "outputs": [],
   "source": [
    "r_classifier = RandomForestClassifier(n_estimators=100, random_state=42)\n",
    "r_classifier.fit(X_train, y_train)\n",
    "y_pred = r_classifier.predict(X_val)"
   ]
  },
  {
   "cell_type": "code",
   "execution_count": null,
   "id": "eb110164",
   "metadata": {},
   "outputs": [],
   "source": []
  },
  {
   "attachments": {},
   "cell_type": "markdown",
   "id": "3594508c",
   "metadata": {},
   "source": [
    "MATRIZ CONFUSION 1"
   ]
  },
  {
   "cell_type": "code",
   "execution_count": 27,
   "id": "54f14a4a",
   "metadata": {},
   "outputs": [],
   "source": [
    "import seaborn as sns\n",
    "from sklearn.metrics import accuracy_score, classification_report, confusion_matrix\n",
    "from sklearn.utils.multiclass import unique_labels\n",
    "def plot(y_val_rojo, y_pred):\n",
    "    labels = unique_labels(y_val_rojo)\n",
    "    column = [f'Predicción {label}' for label in labels]\n",
    "    indices = [f'Actual {label}' for label in labels]\n",
    "    conf_matrix = confusion_matrix(y_val_rojo, y_pred)\n",
    "    row_sums = conf_matrix.sum(axis=1)\n",
    "    normalized_matrix = conf_matrix / row_sums[:, np.newaxis]\n",
    "    table = pd.DataFrame(normalized_matrix, columns=column, index=indices)\n",
    "    return sns.heatmap(table, annot=True, fmt='.2f', cmap='viridis')\n"
   ]
  },
  {
   "cell_type": "code",
   "execution_count": 28,
   "id": "1c986093",
   "metadata": {},
   "outputs": [
    {
     "data": {
      "text/plain": [
       "<Axes: >"
      ]
     },
     "execution_count": 28,
     "metadata": {},
     "output_type": "execute_result"
    },
    {
     "data": {
      "image/png": "[encoded data removed]",
      "text/plain": [
       "<Figure size 640x480 with 2 Axes>"
      ]
     },
     "metadata": {},
     "output_type": "display_data"
    }
   ],
   "source": [
    "plot(y_val,y_pred)"
   ]
  },
  {
   "cell_type": "code",
   "execution_count": 29,
   "id": "4faa75f8",
   "metadata": {},
   "outputs": [
    {
     "name": "stdout",
     "output_type": "stream",
     "text": [
      "Precisión para clase 1: 0.7692\n",
      "Precisión para clase 2: 1.0000\n",
      "Precisión para clase 3: 0.9333\n"
     ]
    }
   ],
   "source": [
    "from sklearn.metrics import confusion_matrix, classification_report\n",
    "conf_matrix = confusion_matrix(y_val, y_pred)\n",
    "calidades = [1,2,3]\n",
    "for calidad in calidades:\n",
    "    indice = calidad-1  \n",
    "    # Verdaderos positivos para la calidad en particular\n",
    "    tp = conf_matrix[indice, indice]\n",
    "    # Falsos positivos\n",
    "    fp = conf_matrix[:, indice].sum() - tp\n",
    "    # Falsos negativos\n",
    "    fn = conf_matrix[indice, :].sum() - tp\n",
    "    # Calcular precisión\n",
    "    precision = tp / (tp + fp + 1e-12)\n",
    "    print(f'Precisión para clase {calidad}: {precision:.4f}')"
   ]
  },
  {
   "cell_type": "code",
   "execution_count": 30,
   "id": "cb7fadfb",
   "metadata": {},
   "outputs": [
    {
     "name": "stdout",
     "output_type": "stream",
     "text": [
      "Precisión: 0.9047619047619048\n",
      "Informe de Clasificación:\n",
      "\n",
      "              precision    recall  f1-score   support\n",
      "\n",
      "         1.0       0.77      0.91      0.83        11\n",
      "         2.0       1.00      1.00      1.00        14\n",
      "         3.0       0.93      0.82      0.87        17\n",
      "\n",
      "    accuracy                           0.90        42\n",
      "   macro avg       0.90      0.91      0.90        42\n",
      "weighted avg       0.91      0.90      0.91        42\n",
      "\n"
     ]
    }
   ],
   "source": [
    "accuracy = accuracy_score(y_val, y_pred)\n",
    "classification_rep = classification_report(y_val, y_pred, zero_division=1)\n",
    "print(\"Precisión:\", accuracy)\n",
    "print(\"Informe de Clasificación:\\n\")\n",
    "print(classification_rep)"
   ]
  },
  {
   "cell_type": "markdown",
   "id": "e5c3bca0",
   "metadata": {},
   "source": [
    "K-MEANS"
   ]
  },
  {
   "cell_type": "code",
   "execution_count": 31,
   "id": "05e8d255",
   "metadata": {},
   "outputs": [],
   "source": [
    "from sklearn.neighbors import KNeighborsClassifier\n",
    "neigh = KNeighborsClassifier(n_neighbors=1,leaf_size=80)\n",
    "neigh.fit(X_train, y_train)\n",
    "y_pred2 = neigh.predict(X_val)\n"
   ]
  },
  {
   "cell_type": "code",
   "execution_count": 32,
   "id": "46312cf1",
   "metadata": {},
   "outputs": [
    {
     "data": {
      "text/plain": [
       "<Axes: >"
      ]
     },
     "execution_count": 32,
     "metadata": {},
     "output_type": "execute_result"
    },
    {
     "data": {
      "image/png": "[encoded data removed]",
      "text/plain": [
       "<Figure size 640x480 with 2 Axes>"
      ]
     },
     "metadata": {},
     "output_type": "display_data"
    }
   ],
   "source": [
    "plot(y_val,y_pred2)"
   ]
  },
  {
   "cell_type": "code",
   "execution_count": 33,
   "id": "27fb26d1",
   "metadata": {},
   "outputs": [
    {
     "name": "stdout",
     "output_type": "stream",
     "text": [
      "Precisión: 0.9285714285714286\n",
      "Informe de Clasificación:\n",
      "\n",
      "              precision    recall  f1-score   support\n",
      "\n",
      "         1.0       0.83      0.91      0.87        11\n",
      "         2.0       1.00      1.00      1.00        14\n",
      "         3.0       0.94      0.88      0.91        17\n",
      "\n",
      "    accuracy                           0.93        42\n",
      "   macro avg       0.92      0.93      0.93        42\n",
      "weighted avg       0.93      0.93      0.93        42\n",
      "\n"
     ]
    }
   ],
   "source": [
    "accuracy = accuracy_score(y_val, y_pred2)\n",
    "classification_rep = classification_report(y_val, y_pred2, zero_division=1)\n",
    "print(\"Precisión:\", accuracy)\n",
    "print(\"Informe de Clasificación:\\n\")\n",
    "print(classification_rep)"
   ]
  },
  {
   "cell_type": "code",
   "execution_count": 34,
   "id": "bb58f21a",
   "metadata": {},
   "outputs": [
    {
     "name": "stdout",
     "output_type": "stream",
     "text": [
      "Precisión para clase 1: 0.8333\n",
      "Precisión para clase 2: 1.0000\n",
      "Precisión para clase 3: 0.9375\n"
     ]
    }
   ],
   "source": [
    "conf_matrix = confusion_matrix(y_val, y_pred2)\n",
    "calidades = [1,2,3]\n",
    "for calidad in calidades:\n",
    "    indice = calidad-1  \n",
    "    # Verdaderos positivos para la calidad en particular\n",
    "    tp = conf_matrix[indice, indice]\n",
    "    # Falsos positivos\n",
    "    fp = conf_matrix[:, indice].sum() - tp\n",
    "    # Falsos negativos\n",
    "    fn = conf_matrix[indice, :].sum() - tp\n",
    "    # Calcular precisión\n",
    "    precision = tp / (tp + fp + 1e-12)\n",
    "    print(f'Precisión para clase {calidad}: {precision:.4f}')"
   ]
  },
  {
   "cell_type": "code",
   "execution_count": null,
   "id": "31d5247a",
   "metadata": {},
   "outputs": [],
   "source": []
  }
 ],
 "metadata": {
  "kernelspec": {
   "display_name": "Python 3 (ipykernel)",
   "language": "python",
   "name": "python3"
  },
  "language_info": {
   "codemirror_mode": {
    "name": "ipython",
    "version": 3
   },
   "file_extension": ".py",
   "mimetype": "text/x-python",
   "name": "python",
   "nbconvert_exporter": "python",
   "pygments_lexer": "ipython3",
   "version": "3.11.5"
  }
 },
 "nbformat": 4,
 "nbformat_minor": 5
}
