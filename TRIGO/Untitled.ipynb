{
 "cells": [
  {
   "cell_type": "code",
   "execution_count": 1,
   "id": "173d402c",
   "metadata": {},
   "outputs": [],
   "source": [
    "import pandas as pd\n",
    "import numpy as np"
   ]
  },
  {
   "cell_type": "code",
   "execution_count": 2,
   "id": "649d0de9",
   "metadata": {},
   "outputs": [],
   "source": [
    "datos=pd.read_csv(\"wheat.csv\")"
   ]
  },
  {
   "cell_type": "code",
   "execution_count": 3,
   "id": "16e6cec5",
   "metadata": {},
   "outputs": [
    {
     "data": {
      "text/html": [
       "<div>\n",
       "<style scoped>\n",
       "    .dataframe tbody tr th:only-of-type {\n",
       "        vertical-align: middle;\n",
       "    }\n",
       "\n",
       "    .dataframe tbody tr th {\n",
       "        vertical-align: top;\n",
       "    }\n",
       "\n",
       "    .dataframe thead th {\n",
       "        text-align: right;\n",
       "    }\n",
       "</style>\n",
       "<table border=\"1\" class=\"dataframe\">\n",
       "  <thead>\n",
       "    <tr style=\"text-align: right;\">\n",
       "      <th></th>\n",
       "      <th>area</th>\n",
       "      <th>perimeter</th>\n",
       "      <th>compactness</th>\n",
       "      <th>length</th>\n",
       "      <th>width</th>\n",
       "      <th>asymmetry coefficient</th>\n",
       "      <th>groove length</th>\n",
       "      <th>category</th>\n",
       "    </tr>\n",
       "  </thead>\n",
       "  <tbody>\n",
       "    <tr>\n",
       "      <th>0</th>\n",
       "      <td>15.26</td>\n",
       "      <td>14.84</td>\n",
       "      <td>0.8710</td>\n",
       "      <td>5.763</td>\n",
       "      <td>3.312</td>\n",
       "      <td>2.221</td>\n",
       "      <td>5.220</td>\n",
       "      <td>1.0</td>\n",
       "    </tr>\n",
       "    <tr>\n",
       "      <th>1</th>\n",
       "      <td>14.88</td>\n",
       "      <td>14.57</td>\n",
       "      <td>0.8811</td>\n",
       "      <td>5.554</td>\n",
       "      <td>3.333</td>\n",
       "      <td>1.018</td>\n",
       "      <td>4.956</td>\n",
       "      <td>1.0</td>\n",
       "    </tr>\n",
       "    <tr>\n",
       "      <th>2</th>\n",
       "      <td>14.29</td>\n",
       "      <td>14.09</td>\n",
       "      <td>0.9050</td>\n",
       "      <td>5.291</td>\n",
       "      <td>3.337</td>\n",
       "      <td>2.699</td>\n",
       "      <td>4.825</td>\n",
       "      <td>1.0</td>\n",
       "    </tr>\n",
       "    <tr>\n",
       "      <th>3</th>\n",
       "      <td>13.84</td>\n",
       "      <td>13.94</td>\n",
       "      <td>0.8955</td>\n",
       "      <td>5.324</td>\n",
       "      <td>3.379</td>\n",
       "      <td>2.259</td>\n",
       "      <td>4.805</td>\n",
       "      <td>1.0</td>\n",
       "    </tr>\n",
       "    <tr>\n",
       "      <th>4</th>\n",
       "      <td>16.14</td>\n",
       "      <td>14.99</td>\n",
       "      <td>0.9034</td>\n",
       "      <td>5.658</td>\n",
       "      <td>3.562</td>\n",
       "      <td>1.355</td>\n",
       "      <td>5.175</td>\n",
       "      <td>1.0</td>\n",
       "    </tr>\n",
       "    <tr>\n",
       "      <th>...</th>\n",
       "      <td>...</td>\n",
       "      <td>...</td>\n",
       "      <td>...</td>\n",
       "      <td>...</td>\n",
       "      <td>...</td>\n",
       "      <td>...</td>\n",
       "      <td>...</td>\n",
       "      <td>...</td>\n",
       "    </tr>\n",
       "    <tr>\n",
       "      <th>205</th>\n",
       "      <td>12.19</td>\n",
       "      <td>13.20</td>\n",
       "      <td>0.8783</td>\n",
       "      <td>5.137</td>\n",
       "      <td>2.981</td>\n",
       "      <td>3.631</td>\n",
       "      <td>4.870</td>\n",
       "      <td>3.0</td>\n",
       "    </tr>\n",
       "    <tr>\n",
       "      <th>206</th>\n",
       "      <td>11.23</td>\n",
       "      <td>12.88</td>\n",
       "      <td>0.8511</td>\n",
       "      <td>5.140</td>\n",
       "      <td>2.795</td>\n",
       "      <td>4.325</td>\n",
       "      <td>5.003</td>\n",
       "      <td>3.0</td>\n",
       "    </tr>\n",
       "    <tr>\n",
       "      <th>207</th>\n",
       "      <td>13.20</td>\n",
       "      <td>13.66</td>\n",
       "      <td>0.8883</td>\n",
       "      <td>5.236</td>\n",
       "      <td>3.232</td>\n",
       "      <td>8.315</td>\n",
       "      <td>5.056</td>\n",
       "      <td>3.0</td>\n",
       "    </tr>\n",
       "    <tr>\n",
       "      <th>208</th>\n",
       "      <td>11.84</td>\n",
       "      <td>13.21</td>\n",
       "      <td>0.8521</td>\n",
       "      <td>5.175</td>\n",
       "      <td>2.836</td>\n",
       "      <td>3.598</td>\n",
       "      <td>5.044</td>\n",
       "      <td>3.0</td>\n",
       "    </tr>\n",
       "    <tr>\n",
       "      <th>209</th>\n",
       "      <td>12.30</td>\n",
       "      <td>13.34</td>\n",
       "      <td>0.8684</td>\n",
       "      <td>5.243</td>\n",
       "      <td>2.974</td>\n",
       "      <td>5.637</td>\n",
       "      <td>5.063</td>\n",
       "      <td>3.0</td>\n",
       "    </tr>\n",
       "  </tbody>\n",
       "</table>\n",
       "<p>210 rows × 8 columns</p>\n",
       "</div>"
      ],
      "text/plain": [
       "      area  perimeter  compactness  length  width  asymmetry coefficient  \\\n",
       "0    15.26      14.84       0.8710   5.763  3.312                  2.221   \n",
       "1    14.88      14.57       0.8811   5.554  3.333                  1.018   \n",
       "2    14.29      14.09       0.9050   5.291  3.337                  2.699   \n",
       "3    13.84      13.94       0.8955   5.324  3.379                  2.259   \n",
       "4    16.14      14.99       0.9034   5.658  3.562                  1.355   \n",
       "..     ...        ...          ...     ...    ...                    ...   \n",
       "205  12.19      13.20       0.8783   5.137  2.981                  3.631   \n",
       "206  11.23      12.88       0.8511   5.140  2.795                  4.325   \n",
       "207  13.20      13.66       0.8883   5.236  3.232                  8.315   \n",
       "208  11.84      13.21       0.8521   5.175  2.836                  3.598   \n",
       "209  12.30      13.34       0.8684   5.243  2.974                  5.637   \n",
       "\n",
       "     groove length  category  \n",
       "0            5.220       1.0  \n",
       "1            4.956       1.0  \n",
       "2            4.825       1.0  \n",
       "3            4.805       1.0  \n",
       "4            5.175       1.0  \n",
       "..             ...       ...  \n",
       "205          4.870       3.0  \n",
       "206          5.003       3.0  \n",
       "207          5.056       3.0  \n",
       "208          5.044       3.0  \n",
       "209          5.063       3.0  \n",
       "\n",
       "[210 rows x 8 columns]"
      ]
     },
     "execution_count": 3,
     "metadata": {},
     "output_type": "execute_result"
    }
   ],
   "source": [
    "datos"
   ]
  },
  {
   "cell_type": "code",
   "execution_count": 4,
   "id": "608c02b0",
   "metadata": {},
   "outputs": [
    {
     "data": {
      "text/plain": [
       "<Axes: title={'center': 'datos'}, xlabel='category'>"
      ]
     },
     "execution_count": 4,
     "metadata": {},
     "output_type": "execute_result"
    },
    {
     "data": {
      "image/png": "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",
      "text/plain": [
       "<Figure size 640x480 with 1 Axes>"
      ]
     },
     "metadata": {},
     "output_type": "display_data"
    }
   ],
   "source": [
    "datos[\"category\"].value_counts().plot(kind='bar', title='datos')"
   ]
  },
  {
   "attachments": {},
   "cell_type": "markdown",
   "id": "ea215d6b",
   "metadata": {},
   "source": [
    "ELIMINAR LINEAL DEPENDIENTES"
   ]
  },
  {
   "cell_type": "code",
   "execution_count": 5,
<<<<<<< HEAD
   "id": "84495e8c",
=======
   "id": "34a404e5",
>>>>>>> trigo
   "metadata": {},
   "outputs": [],
   "source": [
    "eliminar=['area','length','width']"
   ]
  },
  {
   "cell_type": "code",
   "execution_count": 6,
<<<<<<< HEAD
   "id": "65ad76de",
=======
   "id": "30e047c7",
>>>>>>> trigo
   "metadata": {},
   "outputs": [],
   "source": [
    "datos=datos.drop(eliminar,axis=1)"
   ]
  },
  {
   "cell_type": "code",
   "execution_count": 7,
<<<<<<< HEAD
   "id": "dddcc247",
=======
   "id": "0e72c6be",
>>>>>>> trigo
   "metadata": {},
   "outputs": [
    {
     "data": {
      "text/html": [
       "<div>\n",
       "<style scoped>\n",
       "    .dataframe tbody tr th:only-of-type {\n",
       "        vertical-align: middle;\n",
       "    }\n",
       "\n",
       "    .dataframe tbody tr th {\n",
       "        vertical-align: top;\n",
       "    }\n",
       "\n",
       "    .dataframe thead th {\n",
       "        text-align: right;\n",
       "    }\n",
       "</style>\n",
       "<table border=\"1\" class=\"dataframe\">\n",
       "  <thead>\n",
       "    <tr style=\"text-align: right;\">\n",
       "      <th></th>\n",
       "      <th>perimeter</th>\n",
       "      <th>compactness</th>\n",
       "      <th>asymmetry coefficient</th>\n",
       "      <th>groove length</th>\n",
       "      <th>category</th>\n",
       "    </tr>\n",
       "  </thead>\n",
       "  <tbody>\n",
       "    <tr>\n",
       "      <th>0</th>\n",
       "      <td>14.84</td>\n",
       "      <td>0.8710</td>\n",
       "      <td>2.221</td>\n",
       "      <td>5.220</td>\n",
       "      <td>1.0</td>\n",
       "    </tr>\n",
       "    <tr>\n",
       "      <th>1</th>\n",
       "      <td>14.57</td>\n",
       "      <td>0.8811</td>\n",
       "      <td>1.018</td>\n",
       "      <td>4.956</td>\n",
       "      <td>1.0</td>\n",
       "    </tr>\n",
       "    <tr>\n",
       "      <th>2</th>\n",
       "      <td>14.09</td>\n",
       "      <td>0.9050</td>\n",
       "      <td>2.699</td>\n",
       "      <td>4.825</td>\n",
       "      <td>1.0</td>\n",
       "    </tr>\n",
       "    <tr>\n",
       "      <th>3</th>\n",
       "      <td>13.94</td>\n",
       "      <td>0.8955</td>\n",
       "      <td>2.259</td>\n",
       "      <td>4.805</td>\n",
       "      <td>1.0</td>\n",
       "    </tr>\n",
       "    <tr>\n",
       "      <th>4</th>\n",
       "      <td>14.99</td>\n",
       "      <td>0.9034</td>\n",
       "      <td>1.355</td>\n",
       "      <td>5.175</td>\n",
       "      <td>1.0</td>\n",
       "    </tr>\n",
       "    <tr>\n",
       "      <th>...</th>\n",
       "      <td>...</td>\n",
       "      <td>...</td>\n",
       "      <td>...</td>\n",
       "      <td>...</td>\n",
       "      <td>...</td>\n",
       "    </tr>\n",
       "    <tr>\n",
       "      <th>205</th>\n",
       "      <td>13.20</td>\n",
       "      <td>0.8783</td>\n",
       "      <td>3.631</td>\n",
       "      <td>4.870</td>\n",
       "      <td>3.0</td>\n",
       "    </tr>\n",
       "    <tr>\n",
       "      <th>206</th>\n",
       "      <td>12.88</td>\n",
       "      <td>0.8511</td>\n",
       "      <td>4.325</td>\n",
       "      <td>5.003</td>\n",
       "      <td>3.0</td>\n",
       "    </tr>\n",
       "    <tr>\n",
       "      <th>207</th>\n",
       "      <td>13.66</td>\n",
       "      <td>0.8883</td>\n",
       "      <td>8.315</td>\n",
       "      <td>5.056</td>\n",
       "      <td>3.0</td>\n",
       "    </tr>\n",
       "    <tr>\n",
       "      <th>208</th>\n",
       "      <td>13.21</td>\n",
       "      <td>0.8521</td>\n",
       "      <td>3.598</td>\n",
       "      <td>5.044</td>\n",
       "      <td>3.0</td>\n",
       "    </tr>\n",
       "    <tr>\n",
       "      <th>209</th>\n",
       "      <td>13.34</td>\n",
       "      <td>0.8684</td>\n",
       "      <td>5.637</td>\n",
       "      <td>5.063</td>\n",
       "      <td>3.0</td>\n",
       "    </tr>\n",
       "  </tbody>\n",
       "</table>\n",
       "<p>210 rows × 5 columns</p>\n",
       "</div>"
      ],
      "text/plain": [
       "     perimeter  compactness  asymmetry coefficient  groove length  category\n",
       "0        14.84       0.8710                  2.221          5.220       1.0\n",
       "1        14.57       0.8811                  1.018          4.956       1.0\n",
       "2        14.09       0.9050                  2.699          4.825       1.0\n",
       "3        13.94       0.8955                  2.259          4.805       1.0\n",
       "4        14.99       0.9034                  1.355          5.175       1.0\n",
       "..         ...          ...                    ...            ...       ...\n",
       "205      13.20       0.8783                  3.631          4.870       3.0\n",
       "206      12.88       0.8511                  4.325          5.003       3.0\n",
       "207      13.66       0.8883                  8.315          5.056       3.0\n",
       "208      13.21       0.8521                  3.598          5.044       3.0\n",
       "209      13.34       0.8684                  5.637          5.063       3.0\n",
       "\n",
       "[210 rows x 5 columns]"
      ]
     },
     "execution_count": 7,
     "metadata": {},
     "output_type": "execute_result"
    }
   ],
   "source": [
    "datos"
   ]
  },
  {
   "cell_type": "code",
   "execution_count": 8,
<<<<<<< HEAD
   "id": "79bbe4a3",
=======
   "id": "d7a249a0",
>>>>>>> trigo
   "metadata": {},
   "outputs": [],
   "source": [
    "cor=datos.corr()"
   ]
  },
  {
   "cell_type": "code",
   "execution_count": 9,
<<<<<<< HEAD
   "id": "d9f92737",
   "metadata": {},
   "outputs": [],
   "source": [
    "from sklearn.preprocessing import normalize\n",
    "\n",
    "normalized_data = normalize(datos, axis=0)\n",
    "normalized_df = pd.DataFrame(normalized_data, columns=datos.columns)\n",
    "normalized_df = normalized_df.iloc[:, :-1]"
   ]
  },
  {
   "cell_type": "code",
   "execution_count": 11,
   "id": "fd680c7d",
=======
   "id": "fbd2412a",
>>>>>>> trigo
   "metadata": {},
   "outputs": [
    {
     "data": {
      "text/html": [
       "<div>\n",
       "<style scoped>\n",
       "    .dataframe tbody tr th:only-of-type {\n",
       "        vertical-align: middle;\n",
       "    }\n",
       "\n",
       "    .dataframe tbody tr th {\n",
       "        vertical-align: top;\n",
       "    }\n",
       "\n",
       "    .dataframe thead th {\n",
       "        text-align: right;\n",
       "    }\n",
       "</style>\n",
       "<table border=\"1\" class=\"dataframe\">\n",
       "  <thead>\n",
       "    <tr style=\"text-align: right;\">\n",
       "      <th></th>\n",
       "      <th>perimeter</th>\n",
       "      <th>compactness</th>\n",
       "      <th>asymmetry coefficient</th>\n",
       "      <th>groove length</th>\n",
       "      <th>category</th>\n",
       "    </tr>\n",
       "  </thead>\n",
       "  <tbody>\n",
       "    <tr>\n",
       "      <th>perimeter</th>\n",
       "      <td>1.000000</td>\n",
       "      <td>0.529244</td>\n",
       "      <td>-0.217340</td>\n",
       "      <td>0.890784</td>\n",
       "      <td>-0.327900</td>\n",
       "    </tr>\n",
       "    <tr>\n",
       "      <th>compactness</th>\n",
       "      <td>0.529244</td>\n",
       "      <td>1.000000</td>\n",
       "      <td>-0.331471</td>\n",
       "      <td>0.226825</td>\n",
       "      <td>-0.531007</td>\n",
       "    </tr>\n",
       "    <tr>\n",
       "      <th>asymmetry coefficient</th>\n",
       "      <td>-0.217340</td>\n",
       "      <td>-0.331471</td>\n",
       "      <td>1.000000</td>\n",
       "      <td>-0.011079</td>\n",
       "      <td>0.577273</td>\n",
       "    </tr>\n",
       "    <tr>\n",
       "      <th>groove length</th>\n",
       "      <td>0.890784</td>\n",
       "      <td>0.226825</td>\n",
       "      <td>-0.011079</td>\n",
       "      <td>1.000000</td>\n",
       "      <td>0.024301</td>\n",
       "    </tr>\n",
       "    <tr>\n",
       "      <th>category</th>\n",
       "      <td>-0.327900</td>\n",
       "      <td>-0.531007</td>\n",
       "      <td>0.577273</td>\n",
       "      <td>0.024301</td>\n",
       "      <td>1.000000</td>\n",
       "    </tr>\n",
       "  </tbody>\n",
       "</table>\n",
       "</div>"
      ],
      "text/plain": [
       "                       perimeter  compactness  asymmetry coefficient  \\\n",
       "perimeter               1.000000     0.529244              -0.217340   \n",
       "compactness             0.529244     1.000000              -0.331471   \n",
       "asymmetry coefficient  -0.217340    -0.331471               1.000000   \n",
       "groove length           0.890784     0.226825              -0.011079   \n",
       "category               -0.327900    -0.531007               0.577273   \n",
       "\n",
       "                       groove length  category  \n",
       "perimeter                   0.890784 -0.327900  \n",
       "compactness                 0.226825 -0.531007  \n",
       "asymmetry coefficient      -0.011079  0.577273  \n",
       "groove length               1.000000  0.024301  \n",
       "category                    0.024301  1.000000  "
      ]
     },
     "execution_count": 9,
     "metadata": {},
     "output_type": "execute_result"
    }
   ],
   "source": [
    "cor"
   ]
  },
  {
   "attachments": {},
   "cell_type": "markdown",
   "id": "74a05bb1",
   "metadata": {},
   "source": [
    "NORMALIZACION(PENDIENTE)"
   ]
  },
  {
   "cell_type": "code",
   "execution_count": 16,
   "id": "1dcf97d9",
   "metadata": {},
   "outputs": [],
   "source": [
    "from sklearn.preprocessing import normalize\n",
    "\n",
    "normalized_data = normalize(datos, axis=0)\n",
    "datosN = pd.DataFrame(normalized_data, columns=datos.columns)\n",
    "datosN = normalized_df.iloc[:, :-1]"
   ]
  },
  {
   "cell_type": "code",
   "execution_count": 17,
   "id": "b422d12b",
   "metadata": {},
   "outputs": [
    {
     "data": {
      "text/html": [
       "<div>\n",
       "<style scoped>\n",
       "    .dataframe tbody tr th:only-of-type {\n",
       "        vertical-align: middle;\n",
       "    }\n",
       "\n",
       "    .dataframe tbody tr th {\n",
       "        vertical-align: top;\n",
       "    }\n",
       "\n",
       "    .dataframe thead th {\n",
       "        text-align: right;\n",
       "    }\n",
       "</style>\n",
       "<table border=\"1\" class=\"dataframe\">\n",
       "  <thead>\n",
       "    <tr style=\"text-align: right;\">\n",
       "      <th></th>\n",
       "      <th>perimeter</th>\n",
       "      <th>compactness</th>\n",
       "      <th>asymmetry coefficient</th>\n",
       "    </tr>\n",
       "  </thead>\n",
       "  <tbody>\n",
       "    <tr>\n",
       "      <th>0</th>\n",
       "      <td>0.070057</td>\n",
       "      <td>0.068981</td>\n",
       "      <td>0.038386</td>\n",
       "    </tr>\n",
       "    <tr>\n",
       "      <th>1</th>\n",
       "      <td>0.068782</td>\n",
       "      <td>0.069781</td>\n",
       "      <td>0.017594</td>\n",
       "    </tr>\n",
       "    <tr>\n",
       "      <th>2</th>\n",
       "      <td>0.066516</td>\n",
       "      <td>0.071674</td>\n",
       "      <td>0.046648</td>\n",
       "    </tr>\n",
       "    <tr>\n",
       "      <th>3</th>\n",
       "      <td>0.065808</td>\n",
       "      <td>0.070922</td>\n",
       "      <td>0.039043</td>\n",
       "    </tr>\n",
       "    <tr>\n",
       "      <th>4</th>\n",
       "      <td>0.070765</td>\n",
       "      <td>0.071547</td>\n",
       "      <td>0.023419</td>\n",
       "    </tr>\n",
       "    <tr>\n",
       "      <th>...</th>\n",
       "      <td>...</td>\n",
       "      <td>...</td>\n",
       "      <td>...</td>\n",
       "    </tr>\n",
       "    <tr>\n",
       "      <th>205</th>\n",
       "      <td>0.062315</td>\n",
       "      <td>0.069560</td>\n",
       "      <td>0.062756</td>\n",
       "    </tr>\n",
       "    <tr>\n",
       "      <th>206</th>\n",
       "      <td>0.060804</td>\n",
       "      <td>0.067405</td>\n",
       "      <td>0.074750</td>\n",
       "    </tr>\n",
       "    <tr>\n",
       "      <th>207</th>\n",
       "      <td>0.064487</td>\n",
       "      <td>0.070352</td>\n",
       "      <td>0.143711</td>\n",
       "    </tr>\n",
       "    <tr>\n",
       "      <th>208</th>\n",
       "      <td>0.062362</td>\n",
       "      <td>0.067485</td>\n",
       "      <td>0.062185</td>\n",
       "    </tr>\n",
       "    <tr>\n",
       "      <th>209</th>\n",
       "      <td>0.062976</td>\n",
       "      <td>0.068775</td>\n",
       "      <td>0.097426</td>\n",
       "    </tr>\n",
       "  </tbody>\n",
       "</table>\n",
       "<p>210 rows × 3 columns</p>\n",
       "</div>"
      ],
      "text/plain": [
       "     perimeter  compactness  asymmetry coefficient\n",
       "0     0.070057     0.068981               0.038386\n",
       "1     0.068782     0.069781               0.017594\n",
       "2     0.066516     0.071674               0.046648\n",
       "3     0.065808     0.070922               0.039043\n",
       "4     0.070765     0.071547               0.023419\n",
       "..         ...          ...                    ...\n",
       "205   0.062315     0.069560               0.062756\n",
       "206   0.060804     0.067405               0.074750\n",
       "207   0.064487     0.070352               0.143711\n",
       "208   0.062362     0.067485               0.062185\n",
       "209   0.062976     0.068775               0.097426\n",
       "\n",
       "[210 rows x 3 columns]"
      ]
     },
<<<<<<< HEAD
     "execution_count": 11,
=======
     "execution_count": 17,
>>>>>>> trigo
     "metadata": {},
     "output_type": "execute_result"
    }
   ],
   "source": [
    "datosN"
   ]
  },
  {
   "cell_type": "code",
   "execution_count": 20,
   "id": "9fbc0eba",
   "metadata": {},
   "outputs": [],
   "source": [
    "X = datosN\n",
    "Y = datos['category']\n"
   ]
  },
  {
   "cell_type": "code",
   "execution_count": 21,
   "id": "0419a465",
   "metadata": {},
   "outputs": [
    {
     "data": {
      "text/plain": [
       "0      1.0\n",
       "1      1.0\n",
       "2      1.0\n",
       "3      1.0\n",
       "4      1.0\n",
       "      ... \n",
       "205    3.0\n",
       "206    3.0\n",
       "207    3.0\n",
       "208    3.0\n",
       "209    3.0\n",
       "Name: category, Length: 210, dtype: float64"
      ]
     },
     "execution_count": 21,
     "metadata": {},
     "output_type": "execute_result"
    }
   ],
   "source": [
    "Y"
   ]
  },
  {
   "attachments": {},
   "cell_type": "markdown",
   "id": "e812a19b",
   "metadata": {},
   "source": [
    "DIVISION DATOS 80/20"
   ]
  },
  {
   "cell_type": "code",
   "execution_count": 22,
   "id": "0bfca858",
   "metadata": {},
   "outputs": [],
   "source": [
    "\n",
    "from sklearn.model_selection import train_test_split\n",
    "X_train, X_val, y_train, y_val = train_test_split(X,Y, test_size=0.2, random_state=42)"
   ]
  },
  {
   "attachments": {},
   "cell_type": "markdown",
   "id": "fb1aa85d",
   "metadata": {},
   "source": [
    "RANDOM FOREST"
   ]
  },
  {
   "cell_type": "code",
   "execution_count": 23,
   "id": "880e60ea",
   "metadata": {},
   "outputs": [],
   "source": [
    "from sklearn.ensemble import RandomForestClassifier"
   ]
  },
  {
   "cell_type": "code",
   "execution_count": 34,
   "id": "6ed8d55f",
   "metadata": {},
   "outputs": [],
   "source": [
    "r_classifier = RandomForestClassifier(n_estimators=100, random_state=42)\n",
    "r_classifier.fit(X_train, y_train)\n",
    "y_pred = r_classifier.predict(X_val)"
   ]
  },
  {
   "cell_type": "code",
   "execution_count": 36,
   "id": "eb110164",
   "metadata": {},
   "outputs": [
    {
     "data": {
      "text/plain": [
       "array([1., 3., 2., 1., 1., 3., 1., 3., 1., 3., 2., 3., 3., 2., 1., 2., 1.,\n",
       "       1., 3., 2., 2., 1., 3., 2., 2., 3., 1., 2., 1., 3., 3., 3., 2., 1.,\n",
       "       2., 1., 3., 2., 2., 3., 1., 3.])"
      ]
     },
     "execution_count": 36,
     "metadata": {},
     "output_type": "execute_result"
    }
   ],
   "source": []
  },
  {
   "attachments": {},
   "cell_type": "markdown",
   "id": "3594508c",
   "metadata": {},
   "source": [
    "MATRIZ CONFUSION 1"
   ]
  },
  {
   "cell_type": "code",
   "execution_count": 53,
   "id": "54f14a4a",
   "metadata": {},
   "outputs": [],
   "source": [
    "import seaborn as sns\n",
    "from sklearn.metrics import accuracy_score, classification_report, confusion_matrix\n",
    "from sklearn.utils.multiclass import unique_labels\n",
    "def plot(y_val_rojo, y_pred):\n",
    "    labels = unique_labels(y_val_rojo)\n",
    "    column = [f'Predicción {label}' for label in labels]\n",
    "    indices = [f'Actual {label}' for label in labels]\n",
    "    conf_matrix = confusion_matrix(y_val_rojo, y_pred)\n",
    "    row_sums = conf_matrix.sum(axis=1)\n",
    "    normalized_matrix = conf_matrix / row_sums[:, np.newaxis]\n",
    "    table = pd.DataFrame(normalized_matrix, columns=column, index=indices)\n",
    "    return sns.heatmap(table, annot=True, fmt='.2f', cmap='viridis')\n"
   ]
  },
  {
   "cell_type": "code",
   "execution_count": 54,
   "id": "1c986093",
   "metadata": {},
   "outputs": [
    {
     "data": {
      "text/plain": [
       "<Axes: >"
      ]
     },
     "execution_count": 54,
     "metadata": {},
     "output_type": "execute_result"
    },
    {
     "data": {
      "image/png": "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",
      "text/plain": [
       "<Figure size 640x480 with 2 Axes>"
      ]
     },
     "metadata": {},
     "output_type": "display_data"
    }
   ],
   "source": [
    "plot(y_val,y_pred)"
   ]
  },
  {
   "cell_type": "code",
   "execution_count": 79,
   "id": "4faa75f8",
   "metadata": {},
   "outputs": [
    {
     "name": "stdout",
     "output_type": "stream",
     "text": [
      "Precisión para clase 1: 0.8182\n",
      "Precisión para clase 2: 1.0000\n",
      "Precisión para clase 3: 0.8824\n"
     ]
    }
   ],
   "source": [
    "from sklearn.metrics import confusion_matrix, classification_report\n",
    "conf_matrix = confusion_matrix(y_val, y_pred)\n",
    "calidades = [1,2,3]\n",
    "for calidad in calidades:\n",
    "    indice = calidad-1  \n",
    "    # Verdaderos positivos para la calidad en particular\n",
    "    tp = conf_matrix[indice, indice]\n",
    "    # Falsos positivos\n",
    "    fp = conf_matrix[:, indice].sum() - tp\n",
    "    # Falsos negativos\n",
    "    fn = conf_matrix[indice, :].sum() - tp\n",
    "    # Calcular precisión\n",
    "    precision = tp / (tp + fp + 1e-12)\n",
    "    print(f'Precisión para clase {calidad}: {precision:.4f}')"
   ]
  },
  {
   "cell_type": "code",
   "execution_count": 55,
   "id": "cb7fadfb",
   "metadata": {},
   "outputs": [
    {
     "name": "stdout",
     "output_type": "stream",
     "text": [
      "Precisión: 0.8809523809523809\n",
      "Informe de Clasificación:\n",
      "\n",
      "              precision    recall  f1-score   support\n",
      "\n",
      "         1.0       0.71      0.91      0.80        11\n",
      "         2.0       1.00      0.93      0.96        14\n",
      "         3.0       0.93      0.82      0.87        17\n",
      "\n",
      "    accuracy                           0.88        42\n",
      "   macro avg       0.88      0.89      0.88        42\n",
      "weighted avg       0.90      0.88      0.88        42\n",
      "\n"
     ]
    }
   ],
   "source": [
    "accuracy = accuracy_score(y_val, y_pred)\n",
    "classification_rep = classification_report(y_val, y_pred, zero_division=1)\n",
    "print(\"Precisión:\", accuracy)\n",
    "print(\"Informe de Clasificación:\\n\")\n",
    "print(classification_rep)"
   ]
  },
  {
   "cell_type": "code",
   "execution_count": 129,
   "id": "05e8d255",
   "metadata": {},
   "outputs": [],
   "source": [
    "from sklearn.neighbors import KNeighborsClassifier\n",
    "neigh = KNeighborsClassifier(n_neighbors=1,leaf_size=80)\n",
    "neigh.fit(X_train, y_train)\n",
    "y_pred2 = neigh.predict(X_val)\n"
   ]
  },
  {
   "cell_type": "code",
   "execution_count": 131,
   "id": "46312cf1",
   "metadata": {},
   "outputs": [
    {
     "data": {
      "text/plain": [
       "<Axes: >"
      ]
     },
     "execution_count": 131,
     "metadata": {},
     "output_type": "execute_result"
    },
    {
     "data": {
      "image/png": "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",
      "text/plain": [
       "<Figure size 640x480 with 2 Axes>"
      ]
     },
     "metadata": {},
     "output_type": "display_data"
    }
   ],
   "source": [
    "plot(y_val,y_pred2)"
   ]
  },
  {
   "cell_type": "code",
   "execution_count": 132,
   "id": "27fb26d1",
   "metadata": {},
   "outputs": [
    {
     "name": "stdout",
     "output_type": "stream",
     "text": [
      "Precisión: 0.9285714285714286\n",
      "Informe de Clasificación:\n",
      "\n",
      "              precision    recall  f1-score   support\n",
      "\n",
      "         1.0       0.83      0.91      0.87        11\n",
      "         2.0       1.00      0.93      0.96        14\n",
      "         3.0       0.94      0.94      0.94        17\n",
      "\n",
      "    accuracy                           0.93        42\n",
      "   macro avg       0.92      0.93      0.92        42\n",
      "weighted avg       0.93      0.93      0.93        42\n",
      "\n"
     ]
    }
   ],
   "source": [
    "accuracy = accuracy_score(y_val, y_pred2)\n",
    "classification_rep = classification_report(y_val, y_pred2, zero_division=1)\n",
    "print(\"Precisión:\", accuracy)\n",
    "print(\"Informe de Clasificación:\\n\")\n",
    "print(classification_rep)"
   ]
  },
  {
   "cell_type": "code",
   "execution_count": 137,
   "id": "bb58f21a",
   "metadata": {},
   "outputs": [
    {
     "name": "stdout",
     "output_type": "stream",
     "text": [
      "Precisión para clase 1: 0.8333\n",
      "Precisión para clase 2: 1.0000\n",
      "Precisión para clase 3: 0.9412\n"
     ]
    }
   ],
   "source": [
    "conf_matrix = confusion_matrix(y_val, y_pred2)\n",
    "calidades = [1,2,3]\n",
    "for calidad in calidades:\n",
    "    indice = calidad-1  \n",
    "    # Verdaderos positivos para la calidad en particular\n",
    "    tp = conf_matrix[indice, indice]\n",
    "    # Falsos positivos\n",
    "    fp = conf_matrix[:, indice].sum() - tp\n",
    "    # Falsos negativos\n",
    "    fn = conf_matrix[indice, :].sum() - tp\n",
    "    # Calcular precisión\n",
    "    precision = tp / (tp + fp + 1e-12)\n",
    "    print(f'Precisión para clase {calidad}: {precision:.4f}')"
   ]
  }
 ],
 "metadata": {
  "kernelspec": {
   "display_name": "Python 3 (ipykernel)",
   "language": "python",
   "name": "python3"
  },
  "language_info": {
   "codemirror_mode": {
    "name": "ipython",
    "version": 3
   },
   "file_extension": ".py",
   "mimetype": "text/x-python",
   "name": "python",
   "nbconvert_exporter": "python",
   "pygments_lexer": "ipython3",
   "version": "3.11.5"
  }
 },
 "nbformat": 4,
 "nbformat_minor": 5
}
